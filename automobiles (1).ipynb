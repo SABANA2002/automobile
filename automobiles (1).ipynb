{
 "cells": [
  {
   "cell_type": "markdown",
   "id": "653086d0",
   "metadata": {},
   "source": [
    "<h2 style=\"color:green\"> IMPORT LIBRARIES </h2>"
   ]
  },
  {
   "cell_type": "code",
   "execution_count": 132,
   "id": "1cbfbaa8",
   "metadata": {},
   "outputs": [],
   "source": [
    "import numpy as np\n",
    "import matplotlib.pyplot as plt\n",
    "import seaborn as sns\n",
    "from scipy import stats\n",
    "import statsmodels.api as sm\n",
    "from scipy.stats import pearsonr"
   ]
  },
  {
   "cell_type": "markdown",
   "id": "dc9573b8",
   "metadata": {},
   "source": [
    "<h2 style=\"color:green\"> IMPORT DATASET </h2>"
   ]
  },
  {
   "cell_type": "code",
   "execution_count": 133,
   "id": "0c7b1768",
   "metadata": {},
   "outputs": [
    {
     "data": {
      "text/html": [
       "<div>\n",
       "<style scoped>\n",
       "    .dataframe tbody tr th:only-of-type {\n",
       "        vertical-align: middle;\n",
       "    }\n",
       "\n",
       "    .dataframe tbody tr th {\n",
       "        vertical-align: top;\n",
       "    }\n",
       "\n",
       "    .dataframe thead th {\n",
       "        text-align: right;\n",
       "    }\n",
       "</style>\n",
       "<table border=\"1\" class=\"dataframe\">\n",
       "  <thead>\n",
       "    <tr style=\"text-align: right;\">\n",
       "      <th></th>\n",
       "      <th>symboling</th>\n",
       "      <th>normalized_losses</th>\n",
       "      <th>make</th>\n",
       "      <th>fuel_type</th>\n",
       "      <th>aspiration</th>\n",
       "      <th>num_of_doors</th>\n",
       "      <th>body_style</th>\n",
       "      <th>drive_wheels</th>\n",
       "      <th>engine_location</th>\n",
       "      <th>wheel_base</th>\n",
       "      <th>...</th>\n",
       "      <th>engine_size</th>\n",
       "      <th>fuel_system</th>\n",
       "      <th>bore</th>\n",
       "      <th>stroke</th>\n",
       "      <th>compression_ratio</th>\n",
       "      <th>horsepower</th>\n",
       "      <th>peak_rpm</th>\n",
       "      <th>city_mpg</th>\n",
       "      <th>highway_mpg</th>\n",
       "      <th>price</th>\n",
       "    </tr>\n",
       "  </thead>\n",
       "  <tbody>\n",
       "    <tr>\n",
       "      <th>0</th>\n",
       "      <td>3</td>\n",
       "      <td>NaN</td>\n",
       "      <td>alfa-romero</td>\n",
       "      <td>gas</td>\n",
       "      <td>std</td>\n",
       "      <td>two</td>\n",
       "      <td>convertible</td>\n",
       "      <td>rwd</td>\n",
       "      <td>front</td>\n",
       "      <td>88.6</td>\n",
       "      <td>...</td>\n",
       "      <td>130</td>\n",
       "      <td>mpfi</td>\n",
       "      <td>3.47</td>\n",
       "      <td>2.68</td>\n",
       "      <td>9.0</td>\n",
       "      <td>111.0</td>\n",
       "      <td>5000.0</td>\n",
       "      <td>21</td>\n",
       "      <td>27</td>\n",
       "      <td>13495.0</td>\n",
       "    </tr>\n",
       "    <tr>\n",
       "      <th>1</th>\n",
       "      <td>3</td>\n",
       "      <td>NaN</td>\n",
       "      <td>alfa-romero</td>\n",
       "      <td>gas</td>\n",
       "      <td>std</td>\n",
       "      <td>two</td>\n",
       "      <td>convertible</td>\n",
       "      <td>rwd</td>\n",
       "      <td>front</td>\n",
       "      <td>88.6</td>\n",
       "      <td>...</td>\n",
       "      <td>130</td>\n",
       "      <td>mpfi</td>\n",
       "      <td>3.47</td>\n",
       "      <td>2.68</td>\n",
       "      <td>9.0</td>\n",
       "      <td>111.0</td>\n",
       "      <td>5000.0</td>\n",
       "      <td>21</td>\n",
       "      <td>27</td>\n",
       "      <td>16500.0</td>\n",
       "    </tr>\n",
       "    <tr>\n",
       "      <th>2</th>\n",
       "      <td>1</td>\n",
       "      <td>NaN</td>\n",
       "      <td>alfa-romero</td>\n",
       "      <td>gas</td>\n",
       "      <td>std</td>\n",
       "      <td>two</td>\n",
       "      <td>hatchback</td>\n",
       "      <td>rwd</td>\n",
       "      <td>front</td>\n",
       "      <td>94.5</td>\n",
       "      <td>...</td>\n",
       "      <td>152</td>\n",
       "      <td>mpfi</td>\n",
       "      <td>2.68</td>\n",
       "      <td>3.47</td>\n",
       "      <td>9.0</td>\n",
       "      <td>154.0</td>\n",
       "      <td>5000.0</td>\n",
       "      <td>19</td>\n",
       "      <td>26</td>\n",
       "      <td>16500.0</td>\n",
       "    </tr>\n",
       "    <tr>\n",
       "      <th>3</th>\n",
       "      <td>2</td>\n",
       "      <td>164.0</td>\n",
       "      <td>audi</td>\n",
       "      <td>gas</td>\n",
       "      <td>std</td>\n",
       "      <td>four</td>\n",
       "      <td>sedan</td>\n",
       "      <td>fwd</td>\n",
       "      <td>front</td>\n",
       "      <td>99.8</td>\n",
       "      <td>...</td>\n",
       "      <td>109</td>\n",
       "      <td>mpfi</td>\n",
       "      <td>3.19</td>\n",
       "      <td>3.40</td>\n",
       "      <td>10.0</td>\n",
       "      <td>102.0</td>\n",
       "      <td>5500.0</td>\n",
       "      <td>24</td>\n",
       "      <td>30</td>\n",
       "      <td>13950.0</td>\n",
       "    </tr>\n",
       "    <tr>\n",
       "      <th>4</th>\n",
       "      <td>2</td>\n",
       "      <td>164.0</td>\n",
       "      <td>audi</td>\n",
       "      <td>gas</td>\n",
       "      <td>std</td>\n",
       "      <td>four</td>\n",
       "      <td>sedan</td>\n",
       "      <td>4wd</td>\n",
       "      <td>front</td>\n",
       "      <td>99.4</td>\n",
       "      <td>...</td>\n",
       "      <td>136</td>\n",
       "      <td>mpfi</td>\n",
       "      <td>3.19</td>\n",
       "      <td>3.40</td>\n",
       "      <td>8.0</td>\n",
       "      <td>115.0</td>\n",
       "      <td>5500.0</td>\n",
       "      <td>18</td>\n",
       "      <td>22</td>\n",
       "      <td>17450.0</td>\n",
       "    </tr>\n",
       "  </tbody>\n",
       "</table>\n",
       "<p>5 rows × 26 columns</p>\n",
       "</div>"
      ],
      "text/plain": [
       "   symboling  normalized_losses         make fuel_type aspiration  \\\n",
       "0          3                NaN  alfa-romero       gas        std   \n",
       "1          3                NaN  alfa-romero       gas        std   \n",
       "2          1                NaN  alfa-romero       gas        std   \n",
       "3          2              164.0         audi       gas        std   \n",
       "4          2              164.0         audi       gas        std   \n",
       "\n",
       "  num_of_doors   body_style drive_wheels engine_location  wheel_base  ...  \\\n",
       "0          two  convertible          rwd           front        88.6  ...   \n",
       "1          two  convertible          rwd           front        88.6  ...   \n",
       "2          two    hatchback          rwd           front        94.5  ...   \n",
       "3         four        sedan          fwd           front        99.8  ...   \n",
       "4         four        sedan          4wd           front        99.4  ...   \n",
       "\n",
       "   engine_size  fuel_system  bore  stroke compression_ratio horsepower  \\\n",
       "0          130         mpfi  3.47    2.68               9.0      111.0   \n",
       "1          130         mpfi  3.47    2.68               9.0      111.0   \n",
       "2          152         mpfi  2.68    3.47               9.0      154.0   \n",
       "3          109         mpfi  3.19    3.40              10.0      102.0   \n",
       "4          136         mpfi  3.19    3.40               8.0      115.0   \n",
       "\n",
       "   peak_rpm city_mpg  highway_mpg    price  \n",
       "0    5000.0       21           27  13495.0  \n",
       "1    5000.0       21           27  16500.0  \n",
       "2    5000.0       19           26  16500.0  \n",
       "3    5500.0       24           30  13950.0  \n",
       "4    5500.0       18           22  17450.0  \n",
       "\n",
       "[5 rows x 26 columns]"
      ]
     },
     "execution_count": 133,
     "metadata": {},
     "output_type": "execute_result"
    }
   ],
   "source": [
    "import pandas as pd\n",
    "data=pd.read_csv(\"file:///C:/Users/bhava/Downloads/imports-85.data\",header=None,names=[\"symboling\",\"normalized_losses\",\"make\",\"fuel_type\",\"aspiration\",\"num_of_doors\",\"body_style\",\"drive_wheels\",\"engine_location\",\"wheel_base\",\"length\",\"width\",\"height\",\"curb_weight\",\"engine_type\",\"num_of_cylinders\",\"engine_size\",\"fuel_system\",\"bore\",\"stroke\",\"compression_ratio\",\"horsepower\",\"peak_rpm\",\"city_mpg\",\"highway_mpg\",\"price\"],na_values=\"?\")\n",
    "data.head()"
   ]
  },
  {
   "cell_type": "code",
   "execution_count": 3,
   "id": "9c811b1e",
   "metadata": {},
   "outputs": [
    {
     "data": {
      "text/html": [
       "<div>\n",
       "<style scoped>\n",
       "    .dataframe tbody tr th:only-of-type {\n",
       "        vertical-align: middle;\n",
       "    }\n",
       "\n",
       "    .dataframe tbody tr th {\n",
       "        vertical-align: top;\n",
       "    }\n",
       "\n",
       "    .dataframe thead th {\n",
       "        text-align: right;\n",
       "    }\n",
       "</style>\n",
       "<table border=\"1\" class=\"dataframe\">\n",
       "  <thead>\n",
       "    <tr style=\"text-align: right;\">\n",
       "      <th></th>\n",
       "      <th>symboling</th>\n",
       "      <th>normalized_losses</th>\n",
       "      <th>make</th>\n",
       "      <th>fuel_type</th>\n",
       "      <th>aspiration</th>\n",
       "      <th>num_of_doors</th>\n",
       "      <th>body_style</th>\n",
       "      <th>drive_wheels</th>\n",
       "      <th>engine_location</th>\n",
       "      <th>wheel_base</th>\n",
       "      <th>...</th>\n",
       "      <th>engine_size</th>\n",
       "      <th>fuel_system</th>\n",
       "      <th>bore</th>\n",
       "      <th>stroke</th>\n",
       "      <th>compression_ratio</th>\n",
       "      <th>horsepower</th>\n",
       "      <th>peak_rpm</th>\n",
       "      <th>city_mpg</th>\n",
       "      <th>highway_mpg</th>\n",
       "      <th>price</th>\n",
       "    </tr>\n",
       "  </thead>\n",
       "  <tbody>\n",
       "    <tr>\n",
       "      <th>200</th>\n",
       "      <td>-1</td>\n",
       "      <td>95.0</td>\n",
       "      <td>volvo</td>\n",
       "      <td>gas</td>\n",
       "      <td>std</td>\n",
       "      <td>four</td>\n",
       "      <td>sedan</td>\n",
       "      <td>rwd</td>\n",
       "      <td>front</td>\n",
       "      <td>109.1</td>\n",
       "      <td>...</td>\n",
       "      <td>141</td>\n",
       "      <td>mpfi</td>\n",
       "      <td>3.78</td>\n",
       "      <td>3.15</td>\n",
       "      <td>9.5</td>\n",
       "      <td>114.0</td>\n",
       "      <td>5400.0</td>\n",
       "      <td>23</td>\n",
       "      <td>28</td>\n",
       "      <td>16845.0</td>\n",
       "    </tr>\n",
       "    <tr>\n",
       "      <th>201</th>\n",
       "      <td>-1</td>\n",
       "      <td>95.0</td>\n",
       "      <td>volvo</td>\n",
       "      <td>gas</td>\n",
       "      <td>turbo</td>\n",
       "      <td>four</td>\n",
       "      <td>sedan</td>\n",
       "      <td>rwd</td>\n",
       "      <td>front</td>\n",
       "      <td>109.1</td>\n",
       "      <td>...</td>\n",
       "      <td>141</td>\n",
       "      <td>mpfi</td>\n",
       "      <td>3.78</td>\n",
       "      <td>3.15</td>\n",
       "      <td>8.7</td>\n",
       "      <td>160.0</td>\n",
       "      <td>5300.0</td>\n",
       "      <td>19</td>\n",
       "      <td>25</td>\n",
       "      <td>19045.0</td>\n",
       "    </tr>\n",
       "    <tr>\n",
       "      <th>202</th>\n",
       "      <td>-1</td>\n",
       "      <td>95.0</td>\n",
       "      <td>volvo</td>\n",
       "      <td>gas</td>\n",
       "      <td>std</td>\n",
       "      <td>four</td>\n",
       "      <td>sedan</td>\n",
       "      <td>rwd</td>\n",
       "      <td>front</td>\n",
       "      <td>109.1</td>\n",
       "      <td>...</td>\n",
       "      <td>173</td>\n",
       "      <td>mpfi</td>\n",
       "      <td>3.58</td>\n",
       "      <td>2.87</td>\n",
       "      <td>8.8</td>\n",
       "      <td>134.0</td>\n",
       "      <td>5500.0</td>\n",
       "      <td>18</td>\n",
       "      <td>23</td>\n",
       "      <td>21485.0</td>\n",
       "    </tr>\n",
       "    <tr>\n",
       "      <th>203</th>\n",
       "      <td>-1</td>\n",
       "      <td>95.0</td>\n",
       "      <td>volvo</td>\n",
       "      <td>diesel</td>\n",
       "      <td>turbo</td>\n",
       "      <td>four</td>\n",
       "      <td>sedan</td>\n",
       "      <td>rwd</td>\n",
       "      <td>front</td>\n",
       "      <td>109.1</td>\n",
       "      <td>...</td>\n",
       "      <td>145</td>\n",
       "      <td>idi</td>\n",
       "      <td>3.01</td>\n",
       "      <td>3.40</td>\n",
       "      <td>23.0</td>\n",
       "      <td>106.0</td>\n",
       "      <td>4800.0</td>\n",
       "      <td>26</td>\n",
       "      <td>27</td>\n",
       "      <td>22470.0</td>\n",
       "    </tr>\n",
       "    <tr>\n",
       "      <th>204</th>\n",
       "      <td>-1</td>\n",
       "      <td>95.0</td>\n",
       "      <td>volvo</td>\n",
       "      <td>gas</td>\n",
       "      <td>turbo</td>\n",
       "      <td>four</td>\n",
       "      <td>sedan</td>\n",
       "      <td>rwd</td>\n",
       "      <td>front</td>\n",
       "      <td>109.1</td>\n",
       "      <td>...</td>\n",
       "      <td>141</td>\n",
       "      <td>mpfi</td>\n",
       "      <td>3.78</td>\n",
       "      <td>3.15</td>\n",
       "      <td>9.5</td>\n",
       "      <td>114.0</td>\n",
       "      <td>5400.0</td>\n",
       "      <td>19</td>\n",
       "      <td>25</td>\n",
       "      <td>22625.0</td>\n",
       "    </tr>\n",
       "  </tbody>\n",
       "</table>\n",
       "<p>5 rows × 26 columns</p>\n",
       "</div>"
      ],
      "text/plain": [
       "     symboling  normalized_losses   make fuel_type aspiration num_of_doors  \\\n",
       "200         -1               95.0  volvo       gas        std         four   \n",
       "201         -1               95.0  volvo       gas      turbo         four   \n",
       "202         -1               95.0  volvo       gas        std         four   \n",
       "203         -1               95.0  volvo    diesel      turbo         four   \n",
       "204         -1               95.0  volvo       gas      turbo         four   \n",
       "\n",
       "    body_style drive_wheels engine_location  wheel_base  ...  engine_size  \\\n",
       "200      sedan          rwd           front       109.1  ...          141   \n",
       "201      sedan          rwd           front       109.1  ...          141   \n",
       "202      sedan          rwd           front       109.1  ...          173   \n",
       "203      sedan          rwd           front       109.1  ...          145   \n",
       "204      sedan          rwd           front       109.1  ...          141   \n",
       "\n",
       "     fuel_system  bore  stroke compression_ratio horsepower  peak_rpm  \\\n",
       "200         mpfi  3.78    3.15               9.5      114.0    5400.0   \n",
       "201         mpfi  3.78    3.15               8.7      160.0    5300.0   \n",
       "202         mpfi  3.58    2.87               8.8      134.0    5500.0   \n",
       "203          idi  3.01    3.40              23.0      106.0    4800.0   \n",
       "204         mpfi  3.78    3.15               9.5      114.0    5400.0   \n",
       "\n",
       "    city_mpg  highway_mpg    price  \n",
       "200       23           28  16845.0  \n",
       "201       19           25  19045.0  \n",
       "202       18           23  21485.0  \n",
       "203       26           27  22470.0  \n",
       "204       19           25  22625.0  \n",
       "\n",
       "[5 rows x 26 columns]"
      ]
     },
     "execution_count": 3,
     "metadata": {},
     "output_type": "execute_result"
    }
   ],
   "source": [
    "data.tail()"
   ]
  },
  {
   "cell_type": "markdown",
   "id": "f49c5004",
   "metadata": {},
   "source": [
    "<h2 style=\"color:green\"> CHECK SHAPE </h2>"
   ]
  },
  {
   "cell_type": "code",
   "execution_count": 4,
   "id": "86242a28",
   "metadata": {},
   "outputs": [
    {
     "data": {
      "text/plain": [
       "(205, 26)"
      ]
     },
     "execution_count": 4,
     "metadata": {},
     "output_type": "execute_result"
    }
   ],
   "source": [
    "data.shape"
   ]
  },
  {
   "cell_type": "markdown",
   "id": "c946c526",
   "metadata": {},
   "source": [
    "<h2 style=\"color:green\"> CKECK DATATYPE </h2>"
   ]
  },
  {
   "cell_type": "code",
   "execution_count": 5,
   "id": "abd3529c",
   "metadata": {},
   "outputs": [
    {
     "data": {
      "text/plain": [
       "symboling              int64\n",
       "normalized_losses    float64\n",
       "make                  object\n",
       "fuel_type             object\n",
       "aspiration            object\n",
       "num_of_doors          object\n",
       "body_style            object\n",
       "drive_wheels          object\n",
       "engine_location       object\n",
       "wheel_base           float64\n",
       "length               float64\n",
       "width                float64\n",
       "height               float64\n",
       "curb_weight            int64\n",
       "engine_type           object\n",
       "num_of_cylinders      object\n",
       "engine_size            int64\n",
       "fuel_system           object\n",
       "bore                 float64\n",
       "stroke               float64\n",
       "compression_ratio    float64\n",
       "horsepower           float64\n",
       "peak_rpm             float64\n",
       "city_mpg               int64\n",
       "highway_mpg            int64\n",
       "price                float64\n",
       "dtype: object"
      ]
     },
     "execution_count": 5,
     "metadata": {},
     "output_type": "execute_result"
    }
   ],
   "source": [
    "data.dtypes"
   ]
  },
  {
   "cell_type": "markdown",
   "id": "4d33d0e8",
   "metadata": {},
   "source": [
    "<h2 style=\"color:green\"> CHECK FOR NULL VALUES </h2>\n",
    "<h4 style=\"color:green\">FOR CONTINUOUS DATA 1)If it has null-fill or replace the data\n",
    "2)If it has outlier fill with median\n",
    "3)If it hasn't outlier fill with mean</h4>\n",
    "<h4 style=\"color:green\">FOR DISCRETE DATA 1)If it has null-fill or replace the data with mode\n",
    "</h4>"
   ]
  },
  {
   "cell_type": "code",
   "execution_count": 6,
   "id": "dc46e475",
   "metadata": {},
   "outputs": [
    {
     "data": {
      "text/plain": [
       "symboling             0\n",
       "normalized_losses    41\n",
       "make                  0\n",
       "fuel_type             0\n",
       "aspiration            0\n",
       "num_of_doors          2\n",
       "body_style            0\n",
       "drive_wheels          0\n",
       "engine_location       0\n",
       "wheel_base            0\n",
       "length                0\n",
       "width                 0\n",
       "height                0\n",
       "curb_weight           0\n",
       "engine_type           0\n",
       "num_of_cylinders      0\n",
       "engine_size           0\n",
       "fuel_system           0\n",
       "bore                  4\n",
       "stroke                4\n",
       "compression_ratio     0\n",
       "horsepower            2\n",
       "peak_rpm              2\n",
       "city_mpg              0\n",
       "highway_mpg           0\n",
       "price                 4\n",
       "dtype: int64"
      ]
     },
     "execution_count": 6,
     "metadata": {},
     "output_type": "execute_result"
    }
   ],
   "source": [
    "data.isnull().sum()"
   ]
  },
  {
   "cell_type": "markdown",
   "id": "8dc019ea",
   "metadata": {},
   "source": [
    "<h2 style=\"color:green\"> DISCRETE DATAS-describe,valuecount,countplot</h2>\n",
    "<h5 style=\"color:blue\"> \"symboling\",\"make\",\"fuel_type\",\"aspiration\",\"num_of_doors\",\"body_style\",\"drive_wheels\",\"engine_location\",\"engine_type\",\"num_of_cylinders\",\"engine_size\",\"fuel_system\" </h5>\n",
    "<h2 style=\"color:green\"> CONTINUOUS DATAS-boxplot,histogram,shapiro </h2>\n",
    "<h5 style=\"color:blue\"> \"normalized_losses\",\"wheel_base\",\"length\",\"width\",\"height\",\"curb_weight\",\"bore\",\"stroke\",\"compression_ratio\",\"horsepower\",\"peak_rpm\",\"city_mpg\",\"highway_mpg\",\"price\"\n",
    "</h5>"
   ]
  },
  {
   "cell_type": "code",
   "execution_count": 7,
   "id": "f7e83588",
   "metadata": {},
   "outputs": [
    {
     "data": {
      "text/plain": [
       " 0    67\n",
       " 1    54\n",
       " 2    32\n",
       " 3    27\n",
       "-1    22\n",
       "-2     3\n",
       "Name: symboling, dtype: int64"
      ]
     },
     "execution_count": 7,
     "metadata": {},
     "output_type": "execute_result"
    }
   ],
   "source": [
    "data.symboling.value_counts()"
   ]
  },
  {
   "cell_type": "code",
   "execution_count": 8,
   "id": "c0bcf548",
   "metadata": {},
   "outputs": [
    {
     "data": {
      "text/plain": [
       "<AxesSubplot:xlabel='symboling', ylabel='count'>"
      ]
     },
     "execution_count": 8,
     "metadata": {},
     "output_type": "execute_result"
    },
    {
     "data": {
      "image/png": "[encoded data removed]",
      "text/plain": [
       "<Figure size 432x288 with 1 Axes>"
      ]
     },
     "metadata": {
      "needs_background": "light"
     },
     "output_type": "display_data"
    }
   ],
   "source": [
    "sns.countplot(x=\"symboling\",data=data)"
   ]
  },
  {
   "cell_type": "code",
   "execution_count": 9,
   "id": "2a659898",
   "metadata": {},
   "outputs": [
    {
     "data": {
      "text/plain": [
       "<AxesSubplot:xlabel='symboling', ylabel='count'>"
      ]
     },
     "execution_count": 9,
     "metadata": {},
     "output_type": "execute_result"
    },
    {
     "data": {
      "image/png": "[encoded data removed]",
      "text/plain": [
       "<Figure size 432x288 with 1 Axes>"
      ]
     },
     "metadata": {
      "needs_background": "light"
     },
     "output_type": "display_data"
    }
   ],
   "source": [
    "data.symboling=data.symboling.replace([-2,-1],\"<0\")\n",
    "sns.countplot(x=\"symboling\",data=data,order=[\"<0\",0,1,2,3])"
   ]
  },
  {
   "cell_type": "code",
   "execution_count": 10,
   "id": "77b5dd48",
   "metadata": {},
   "outputs": [
    {
     "data": {
      "text/plain": [
       "{'whiskers': [<matplotlib.lines.Line2D at 0x19cc60521c0>,\n",
       "  <matplotlib.lines.Line2D at 0x19cc6052490>],\n",
       " 'caps': [<matplotlib.lines.Line2D at 0x19cc6052820>,\n",
       "  <matplotlib.lines.Line2D at 0x19cc6052bb0>],\n",
       " 'boxes': [<matplotlib.lines.Line2D at 0x19cc6042d00>],\n",
       " 'medians': [<matplotlib.lines.Line2D at 0x19cc6052f40>],\n",
       " 'fliers': [<matplotlib.lines.Line2D at 0x19cc605f310>],\n",
       " 'means': []}"
      ]
     },
     "execution_count": 10,
     "metadata": {},
     "output_type": "execute_result"
    },
    {
     "data": {
      "image/png": "[encoded data removed]",
      "text/plain": [
       "<Figure size 432x288 with 1 Axes>"
      ]
     },
     "metadata": {
      "needs_background": "light"
     },
     "output_type": "display_data"
    }
   ],
   "source": [
    "plt.boxplot(data.normalized_losses)"
   ]
  },
  {
   "cell_type": "code",
   "execution_count": 11,
   "id": "6d4258ea",
   "metadata": {},
   "outputs": [
    {
     "data": {
      "text/plain": [
       "count    164.000000\n",
       "mean     122.000000\n",
       "std       35.442168\n",
       "min       65.000000\n",
       "25%       94.000000\n",
       "50%      115.000000\n",
       "75%      150.000000\n",
       "max      256.000000\n",
       "Name: normalized_losses, dtype: float64"
      ]
     },
     "execution_count": 11,
     "metadata": {},
     "output_type": "execute_result"
    }
   ],
   "source": [
    "data.normalized_losses.describe()"
   ]
  },
  {
   "cell_type": "code",
   "execution_count": 12,
   "id": "d8aecd3a",
   "metadata": {},
   "outputs": [],
   "source": [
    "data.normalized_losses.fillna(data.normalized_losses.median(),inplace=True)"
   ]
  },
  {
   "cell_type": "code",
   "execution_count": 13,
   "id": "2e509e48",
   "metadata": {
    "scrolled": true
   },
   "outputs": [
    {
     "data": {
      "text/plain": [
       "{'whiskers': [<matplotlib.lines.Line2D at 0x19cc60b9bb0>,\n",
       "  <matplotlib.lines.Line2D at 0x19cc60b9f40>],\n",
       " 'caps': [<matplotlib.lines.Line2D at 0x19cc60c5310>,\n",
       "  <matplotlib.lines.Line2D at 0x19cc60c56a0>],\n",
       " 'boxes': [<matplotlib.lines.Line2D at 0x19cc60b9820>],\n",
       " 'medians': [<matplotlib.lines.Line2D at 0x19cc60c5a30>],\n",
       " 'fliers': [<matplotlib.lines.Line2D at 0x19cc60c5dc0>],\n",
       " 'means': []}"
      ]
     },
     "execution_count": 13,
     "metadata": {},
     "output_type": "execute_result"
    },
    {
     "data": {
      "image/png": "[encoded data removed]",
      "text/plain": [
       "<Figure size 432x288 with 1 Axes>"
      ]
     },
     "metadata": {
      "needs_background": "light"
     },
     "output_type": "display_data"
    }
   ],
   "source": [
    "plt.boxplot(data.normalized_losses)"
   ]
  },
  {
   "cell_type": "code",
   "execution_count": 14,
   "id": "1dae4e80",
   "metadata": {},
   "outputs": [
    {
     "data": {
      "text/plain": [
       "(array([17., 46., 72., 20., 21., 18.,  9.,  0.,  1.,  1.]),\n",
       " array([ 65. ,  84.1, 103.2, 122.3, 141.4, 160.5, 179.6, 198.7, 217.8,\n",
       "        236.9, 256. ]),\n",
       " <BarContainer object of 10 artists>)"
      ]
     },
     "execution_count": 14,
     "metadata": {},
     "output_type": "execute_result"
    },
    {
     "data": {
      "image/png": "[encoded data removed]",
      "text/plain": [
       "<Figure size 432x288 with 1 Axes>"
      ]
     },
     "metadata": {
      "needs_background": "light"
     },
     "output_type": "display_data"
    }
   ],
   "source": [
    "plt.hist(data.normalized_losses)"
   ]
  },
  {
   "cell_type": "code",
   "execution_count": 15,
   "id": "2718e181",
   "metadata": {},
   "outputs": [
    {
     "data": {
      "text/plain": [
       "ShapiroResult(statistic=0.9371652007102966, pvalue=9.691518698673462e-08)"
      ]
     },
     "execution_count": 15,
     "metadata": {},
     "output_type": "execute_result"
    }
   ],
   "source": [
    "stats.shapiro(data.normalized_losses)"
   ]
  },
  {
   "cell_type": "code",
   "execution_count": 16,
   "id": "9e5f1b1a",
   "metadata": {},
   "outputs": [
    {
     "data": {
      "text/plain": [
       "count        205\n",
       "unique        22\n",
       "top       toyota\n",
       "freq          32\n",
       "Name: make, dtype: object"
      ]
     },
     "execution_count": 16,
     "metadata": {},
     "output_type": "execute_result"
    }
   ],
   "source": [
    "data.make.describe()"
   ]
  },
  {
   "cell_type": "code",
   "execution_count": 17,
   "id": "b7cb56b6",
   "metadata": {},
   "outputs": [
    {
     "data": {
      "text/plain": [
       "toyota           32\n",
       "nissan           18\n",
       "mazda            17\n",
       "mitsubishi       13\n",
       "honda            13\n",
       "volkswagen       12\n",
       "subaru           12\n",
       "peugot           11\n",
       "volvo            11\n",
       "dodge             9\n",
       "mercedes-benz     8\n",
       "bmw               8\n",
       "audi              7\n",
       "plymouth          7\n",
       "saab              6\n",
       "porsche           5\n",
       "isuzu             4\n",
       "jaguar            3\n",
       "chevrolet         3\n",
       "alfa-romero       3\n",
       "renault           2\n",
       "mercury           1\n",
       "Name: make, dtype: int64"
      ]
     },
     "execution_count": 17,
     "metadata": {},
     "output_type": "execute_result"
    }
   ],
   "source": [
    "data.make.value_counts()"
   ]
  },
  {
   "cell_type": "code",
   "execution_count": 18,
   "id": "fc744716",
   "metadata": {},
   "outputs": [
    {
     "data": {
      "text/plain": [
       "<AxesSubplot:xlabel='make', ylabel='count'>"
      ]
     },
     "execution_count": 18,
     "metadata": {},
     "output_type": "execute_result"
    },
    {
     "data": {
      "image/png": "[encoded data removed]",
      "text/plain": [
       "<Figure size 1440x1440 with 1 Axes>"
      ]
     },
     "metadata": {
      "needs_background": "light"
     },
     "output_type": "display_data"
    }
   ],
   "source": [
    "plt.figure(figsize=(20,20))\n",
    "sns.countplot(x=\"make\",data=data)"
   ]
  },
  {
   "cell_type": "code",
   "execution_count": 19,
   "id": "437ea1a6",
   "metadata": {},
   "outputs": [
    {
     "data": {
      "text/plain": [
       "count     205\n",
       "unique      2\n",
       "top       gas\n",
       "freq      185\n",
       "Name: fuel_type, dtype: object"
      ]
     },
     "execution_count": 19,
     "metadata": {},
     "output_type": "execute_result"
    }
   ],
   "source": [
    "data.fuel_type.describe()\n"
   ]
  },
  {
   "cell_type": "code",
   "execution_count": 20,
   "id": "9861139a",
   "metadata": {},
   "outputs": [
    {
     "data": {
      "text/plain": [
       "<AxesSubplot:xlabel='fuel_type', ylabel='count'>"
      ]
     },
     "execution_count": 20,
     "metadata": {},
     "output_type": "execute_result"
    },
    {
     "data": {
      "image/png": "[encoded data removed]",
      "text/plain": [
       "<Figure size 432x288 with 1 Axes>"
      ]
     },
     "metadata": {
      "needs_background": "light"
     },
     "output_type": "display_data"
    }
   ],
   "source": [
    "sns.countplot(x=\"fuel_type\",data=data)"
   ]
  },
  {
   "cell_type": "code",
   "execution_count": 21,
   "id": "1485a2d1",
   "metadata": {},
   "outputs": [
    {
     "data": {
      "text/plain": [
       "count     205\n",
       "unique      2\n",
       "top       std\n",
       "freq      168\n",
       "Name: aspiration, dtype: object"
      ]
     },
     "execution_count": 21,
     "metadata": {},
     "output_type": "execute_result"
    }
   ],
   "source": [
    "data.aspiration.describe()"
   ]
  },
  {
   "cell_type": "code",
   "execution_count": 22,
   "id": "473113d6",
   "metadata": {},
   "outputs": [
    {
     "data": {
      "text/plain": [
       "std      168\n",
       "turbo     37\n",
       "Name: aspiration, dtype: int64"
      ]
     },
     "execution_count": 22,
     "metadata": {},
     "output_type": "execute_result"
    }
   ],
   "source": [
    "data.aspiration.value_counts()"
   ]
  },
  {
   "cell_type": "code",
   "execution_count": 23,
   "id": "1967ad7e",
   "metadata": {},
   "outputs": [
    {
     "data": {
      "text/plain": [
       "<AxesSubplot:xlabel='aspiration', ylabel='count'>"
      ]
     },
     "execution_count": 23,
     "metadata": {},
     "output_type": "execute_result"
    },
    {
     "data": {
      "image/png": "[encoded data removed]",
      "text/plain": [
       "<Figure size 432x288 with 1 Axes>"
      ]
     },
     "metadata": {
      "needs_background": "light"
     },
     "output_type": "display_data"
    }
   ],
   "source": [
    "sns.countplot(x=\"aspiration\",data=data)"
   ]
  },
  {
   "cell_type": "code",
   "execution_count": 24,
   "id": "c6de93f1",
   "metadata": {},
   "outputs": [
    {
     "data": {
      "text/plain": [
       "count      203\n",
       "unique       2\n",
       "top       four\n",
       "freq       114\n",
       "Name: num_of_doors, dtype: object"
      ]
     },
     "execution_count": 24,
     "metadata": {},
     "output_type": "execute_result"
    }
   ],
   "source": [
    "data.num_of_doors.describe()"
   ]
  },
  {
   "cell_type": "code",
   "execution_count": 25,
   "id": "0668fc74",
   "metadata": {},
   "outputs": [],
   "source": [
    "data.num_of_doors.fillna(\"four\",inplace=True)"
   ]
  },
  {
   "cell_type": "code",
   "execution_count": 26,
   "id": "0eaeb715",
   "metadata": {},
   "outputs": [
    {
     "data": {
      "text/plain": [
       "<AxesSubplot:xlabel='num_of_doors', ylabel='count'>"
      ]
     },
     "execution_count": 26,
     "metadata": {},
     "output_type": "execute_result"
    },
    {
     "data": {
      "image/png": "[encoded data removed]",
      "text/plain": [
       "<Figure size 432x288 with 1 Axes>"
      ]
     },
     "metadata": {
      "needs_background": "light"
     },
     "output_type": "display_data"
    }
   ],
   "source": [
    "sns.countplot(x=\"num_of_doors\",data=data)"
   ]
  },
  {
   "cell_type": "code",
   "execution_count": 27,
   "id": "247d54c5",
   "metadata": {},
   "outputs": [
    {
     "data": {
      "text/plain": [
       "count       205\n",
       "unique        5\n",
       "top       sedan\n",
       "freq         96\n",
       "Name: body_style, dtype: object"
      ]
     },
     "execution_count": 27,
     "metadata": {},
     "output_type": "execute_result"
    }
   ],
   "source": [
    "data.body_style.describe()"
   ]
  },
  {
   "cell_type": "code",
   "execution_count": 28,
   "id": "5ec9270c",
   "metadata": {},
   "outputs": [
    {
     "data": {
      "text/plain": [
       "sedan          96\n",
       "hatchback      70\n",
       "wagon          25\n",
       "hardtop         8\n",
       "convertible     6\n",
       "Name: body_style, dtype: int64"
      ]
     },
     "execution_count": 28,
     "metadata": {},
     "output_type": "execute_result"
    }
   ],
   "source": [
    "data.body_style.value_counts()"
   ]
  },
  {
   "cell_type": "code",
   "execution_count": 29,
   "id": "bc6137d0",
   "metadata": {},
   "outputs": [
    {
     "data": {
      "text/plain": [
       "<AxesSubplot:xlabel='body_style', ylabel='count'>"
      ]
     },
     "execution_count": 29,
     "metadata": {},
     "output_type": "execute_result"
    },
    {
     "data": {
      "image/png": "[encoded data removed]",
      "text/plain": [
       "<Figure size 432x288 with 1 Axes>"
      ]
     },
     "metadata": {
      "needs_background": "light"
     },
     "output_type": "display_data"
    }
   ],
   "source": [
    "sns.countplot(x=\"body_style\",data=data)"
   ]
  },
  {
   "cell_type": "code",
   "execution_count": 30,
   "id": "28a2887e",
   "metadata": {},
   "outputs": [
    {
     "data": {
      "text/plain": [
       "count     205\n",
       "unique      3\n",
       "top       fwd\n",
       "freq      120\n",
       "Name: drive_wheels, dtype: object"
      ]
     },
     "execution_count": 30,
     "metadata": {},
     "output_type": "execute_result"
    }
   ],
   "source": [
    "data.drive_wheels.describe()"
   ]
  },
  {
   "cell_type": "code",
   "execution_count": 31,
   "id": "0b0c5226",
   "metadata": {},
   "outputs": [
    {
     "data": {
      "text/plain": [
       "fwd    120\n",
       "rwd     76\n",
       "4wd      9\n",
       "Name: drive_wheels, dtype: int64"
      ]
     },
     "execution_count": 31,
     "metadata": {},
     "output_type": "execute_result"
    }
   ],
   "source": [
    "data.drive_wheels.value_counts()"
   ]
  },
  {
   "cell_type": "code",
   "execution_count": 32,
   "id": "72195d23",
   "metadata": {},
   "outputs": [
    {
     "data": {
      "text/plain": [
       "<AxesSubplot:xlabel='drive_wheels', ylabel='count'>"
      ]
     },
     "execution_count": 32,
     "metadata": {},
     "output_type": "execute_result"
    },
    {
     "data": {
      "image/png": "[encoded data removed]",
      "text/plain": [
       "<Figure size 432x288 with 1 Axes>"
      ]
     },
     "metadata": {
      "needs_background": "light"
     },
     "output_type": "display_data"
    }
   ],
   "source": [
    "sns.countplot(x=\"drive_wheels\",data=data)"
   ]
  },
  {
   "cell_type": "code",
   "execution_count": 33,
   "id": "8350a49e",
   "metadata": {},
   "outputs": [
    {
     "data": {
      "text/plain": [
       "count       205\n",
       "unique        2\n",
       "top       front\n",
       "freq        202\n",
       "Name: engine_location, dtype: object"
      ]
     },
     "execution_count": 33,
     "metadata": {},
     "output_type": "execute_result"
    }
   ],
   "source": [
    "data.engine_location.describe()"
   ]
  },
  {
   "cell_type": "code",
   "execution_count": 34,
   "id": "7ae17c4a",
   "metadata": {},
   "outputs": [
    {
     "data": {
      "text/plain": [
       "front    202\n",
       "rear       3\n",
       "Name: engine_location, dtype: int64"
      ]
     },
     "execution_count": 34,
     "metadata": {},
     "output_type": "execute_result"
    }
   ],
   "source": [
    "data.engine_location.value_counts()"
   ]
  },
  {
   "cell_type": "code",
   "execution_count": 35,
   "id": "ff6438c1",
   "metadata": {},
   "outputs": [
    {
     "data": {
      "text/plain": [
       "<AxesSubplot:xlabel='engine_location', ylabel='count'>"
      ]
     },
     "execution_count": 35,
     "metadata": {},
     "output_type": "execute_result"
    },
    {
     "data": {
      "image/png": "[encoded data removed]",
      "text/plain": [
       "<Figure size 432x288 with 1 Axes>"
      ]
     },
     "metadata": {
      "needs_background": "light"
     },
     "output_type": "display_data"
    }
   ],
   "source": [
    "sns.countplot(x=\"engine_location\",data=data)"
   ]
  },
  {
   "cell_type": "code",
   "execution_count": 134,
   "id": "e3a7ed74",
   "metadata": {},
   "outputs": [
    {
     "data": {
      "text/plain": [
       "{'whiskers': [<matplotlib.lines.Line2D at 0x19cc776c2b0>,\n",
       "  <matplotlib.lines.Line2D at 0x19cc72adfa0>],\n",
       " 'caps': [<matplotlib.lines.Line2D at 0x19cc767dfa0>,\n",
       "  <matplotlib.lines.Line2D at 0x19cc75bb310>],\n",
       " 'boxes': [<matplotlib.lines.Line2D at 0x19cc7749eb0>],\n",
       " 'medians': [<matplotlib.lines.Line2D at 0x19cc73dd730>],\n",
       " 'fliers': [<matplotlib.lines.Line2D at 0x19cc74c51c0>],\n",
       " 'means': []}"
      ]
     },
     "execution_count": 134,
     "metadata": {},
     "output_type": "execute_result"
    },
    {
     "data": {
      "image/png": "[encoded data removed]",
      "text/plain": [
       "<Figure size 432x288 with 1 Axes>"
      ]
     },
     "metadata": {
      "needs_background": "light"
     },
     "output_type": "display_data"
    }
   ],
   "source": [
    "plt.boxplot(data.wheel_base)"
   ]
  },
  {
   "cell_type": "code",
   "execution_count": 37,
   "id": "0be34755",
   "metadata": {},
   "outputs": [
    {
     "data": {
      "text/plain": [
       "count    205.000000\n",
       "mean      98.756585\n",
       "std        6.021776\n",
       "min       86.600000\n",
       "25%       94.500000\n",
       "50%       97.000000\n",
       "75%      102.400000\n",
       "max      120.900000\n",
       "Name: wheel_base, dtype: float64"
      ]
     },
     "execution_count": 37,
     "metadata": {},
     "output_type": "execute_result"
    }
   ],
   "source": [
    "data.wheel_base.describe()"
   ]
  },
  {
   "cell_type": "code",
   "execution_count": 38,
   "id": "95a4dc6a",
   "metadata": {},
   "outputs": [
    {
     "data": {
      "text/plain": [
       "(array([ 8.,  9., 83., 42., 24., 14., 15.,  3.,  6.,  1.]),\n",
       " array([ 86.6 ,  90.03,  93.46,  96.89, 100.32, 103.75, 107.18, 110.61,\n",
       "        114.04, 117.47, 120.9 ]),\n",
       " <BarContainer object of 10 artists>)"
      ]
     },
     "execution_count": 38,
     "metadata": {},
     "output_type": "execute_result"
    },
    {
     "data": {
      "image/png": "[encoded data removed]",
      "text/plain": [
       "<Figure size 432x288 with 1 Axes>"
      ]
     },
     "metadata": {
      "needs_background": "light"
     },
     "output_type": "display_data"
    }
   ],
   "source": [
    "plt.hist(data.wheel_base)"
   ]
  },
  {
   "cell_type": "code",
   "execution_count": 39,
   "id": "05a471a9",
   "metadata": {},
   "outputs": [
    {
     "data": {
      "text/plain": [
       "ShapiroResult(statistic=0.9115860462188721, pvalue=1.0368441660801864e-09)"
      ]
     },
     "execution_count": 39,
     "metadata": {},
     "output_type": "execute_result"
    }
   ],
   "source": [
    "stats.shapiro(data.wheel_base)"
   ]
  },
  {
   "cell_type": "code",
   "execution_count": 40,
   "id": "e4e0c2f6",
   "metadata": {},
   "outputs": [
    {
     "data": {
      "text/plain": [
       "count    205.000000\n",
       "mean     174.049268\n",
       "std       12.337289\n",
       "min      141.100000\n",
       "25%      166.300000\n",
       "50%      173.200000\n",
       "75%      183.100000\n",
       "max      208.100000\n",
       "Name: length, dtype: float64"
      ]
     },
     "execution_count": 40,
     "metadata": {},
     "output_type": "execute_result"
    }
   ],
   "source": [
    "data.length.describe()"
   ]
  },
  {
   "cell_type": "code",
   "execution_count": 41,
   "id": "30d33636",
   "metadata": {},
   "outputs": [
    {
     "data": {
      "text/plain": [
       "{'whiskers': [<matplotlib.lines.Line2D at 0x19cc75849d0>,\n",
       "  <matplotlib.lines.Line2D at 0x19cc7584d60>],\n",
       " 'caps': [<matplotlib.lines.Line2D at 0x19cc75900d0>,\n",
       "  <matplotlib.lines.Line2D at 0x19cc7590460>],\n",
       " 'boxes': [<matplotlib.lines.Line2D at 0x19cc7584640>],\n",
       " 'medians': [<matplotlib.lines.Line2D at 0x19cc75907f0>],\n",
       " 'fliers': [<matplotlib.lines.Line2D at 0x19cc7590b80>],\n",
       " 'means': []}"
      ]
     },
     "execution_count": 41,
     "metadata": {},
     "output_type": "execute_result"
    },
    {
     "data": {
      "image/png": "[encoded data removed]",
      "text/plain": [
       "<Figure size 432x288 with 1 Axes>"
      ]
     },
     "metadata": {
      "needs_background": "light"
     },
     "output_type": "display_data"
    }
   ],
   "source": [
    "plt.boxplot(data.length)"
   ]
  },
  {
   "cell_type": "code",
   "execution_count": 42,
   "id": "d71237bf",
   "metadata": {},
   "outputs": [
    {
     "data": {
      "text/plain": [
       "(array([ 3.,  3., 29., 23., 54., 39., 23., 20.,  8.,  3.]),\n",
       " array([141.1, 147.8, 154.5, 161.2, 167.9, 174.6, 181.3, 188. , 194.7,\n",
       "        201.4, 208.1]),\n",
       " <BarContainer object of 10 artists>)"
      ]
     },
     "execution_count": 42,
     "metadata": {},
     "output_type": "execute_result"
    },
    {
     "data": {
      "image/png": "[encoded data removed]",
      "text/plain": [
       "<Figure size 432x288 with 1 Axes>"
      ]
     },
     "metadata": {
      "needs_background": "light"
     },
     "output_type": "display_data"
    }
   ],
   "source": [
    "plt.hist(data.length)"
   ]
  },
  {
   "cell_type": "code",
   "execution_count": 43,
   "id": "4299f457",
   "metadata": {},
   "outputs": [
    {
     "data": {
      "text/plain": [
       "ShapiroResult(statistic=0.9820953607559204, pvalue=0.01036272943019867)"
      ]
     },
     "execution_count": 43,
     "metadata": {},
     "output_type": "execute_result"
    }
   ],
   "source": [
    "stats.shapiro(data.length)"
   ]
  },
  {
   "cell_type": "code",
   "execution_count": 44,
   "id": "183a3cfe",
   "metadata": {},
   "outputs": [
    {
     "data": {
      "text/plain": [
       "count    205.000000\n",
       "mean      65.907805\n",
       "std        2.145204\n",
       "min       60.300000\n",
       "25%       64.100000\n",
       "50%       65.500000\n",
       "75%       66.900000\n",
       "max       72.300000\n",
       "Name: width, dtype: float64"
      ]
     },
     "execution_count": 44,
     "metadata": {},
     "output_type": "execute_result"
    }
   ],
   "source": [
    "data.width.describe()"
   ]
  },
  {
   "cell_type": "code",
   "execution_count": 45,
   "id": "2b6c1ed7",
   "metadata": {},
   "outputs": [
    {
     "data": {
      "text/plain": [
       "{'whiskers': [<matplotlib.lines.Line2D at 0x19cc7672850>,\n",
       "  <matplotlib.lines.Line2D at 0x19cc7672be0>],\n",
       " 'caps': [<matplotlib.lines.Line2D at 0x19cc7672f70>,\n",
       "  <matplotlib.lines.Line2D at 0x19cc767d2e0>],\n",
       " 'boxes': [<matplotlib.lines.Line2D at 0x19cc76724c0>],\n",
       " 'medians': [<matplotlib.lines.Line2D at 0x19cc767d670>],\n",
       " 'fliers': [<matplotlib.lines.Line2D at 0x19cc767da00>],\n",
       " 'means': []}"
      ]
     },
     "execution_count": 45,
     "metadata": {},
     "output_type": "execute_result"
    },
    {
     "data": {
      "image/png": "[encoded data removed]",
      "text/plain": [
       "<Figure size 432x288 with 1 Axes>"
      ]
     },
     "metadata": {
      "needs_background": "light"
     },
     "output_type": "display_data"
    }
   ],
   "source": [
    "plt.boxplot(data.width)"
   ]
  },
  {
   "cell_type": "code",
   "execution_count": 46,
   "id": "be1ed6aa",
   "metadata": {},
   "outputs": [
    {
     "data": {
      "text/plain": [
       "(array([ 1.,  2., 36., 39., 44., 42., 20.,  7.,  6.,  8.]),\n",
       " array([60.3, 61.5, 62.7, 63.9, 65.1, 66.3, 67.5, 68.7, 69.9, 71.1, 72.3]),\n",
       " <BarContainer object of 10 artists>)"
      ]
     },
     "execution_count": 46,
     "metadata": {},
     "output_type": "execute_result"
    },
    {
     "data": {
      "image/png": "[encoded data removed]",
      "text/plain": [
       "<Figure size 432x288 with 1 Axes>"
      ]
     },
     "metadata": {
      "needs_background": "light"
     },
     "output_type": "display_data"
    }
   ],
   "source": [
    "plt.hist(data.width)"
   ]
  },
  {
   "cell_type": "code",
   "execution_count": 47,
   "id": "602e3564",
   "metadata": {},
   "outputs": [
    {
     "data": {
      "text/plain": [
       "ShapiroResult(statistic=0.9210780262947083, pvalue=5.012857240416224e-09)"
      ]
     },
     "execution_count": 47,
     "metadata": {},
     "output_type": "execute_result"
    }
   ],
   "source": [
    "stats.shapiro(data.width)"
   ]
  },
  {
   "cell_type": "code",
   "execution_count": 48,
   "id": "e12000be",
   "metadata": {},
   "outputs": [
    {
     "data": {
      "text/plain": [
       "count    205.000000\n",
       "mean      53.724878\n",
       "std        2.443522\n",
       "min       47.800000\n",
       "25%       52.000000\n",
       "50%       54.100000\n",
       "75%       55.500000\n",
       "max       59.800000\n",
       "Name: height, dtype: float64"
      ]
     },
     "execution_count": 48,
     "metadata": {},
     "output_type": "execute_result"
    }
   ],
   "source": [
    "data.height.describe()"
   ]
  },
  {
   "cell_type": "code",
   "execution_count": 49,
   "id": "ab9832ce",
   "metadata": {},
   "outputs": [
    {
     "data": {
      "text/plain": [
       "{'whiskers': [<matplotlib.lines.Line2D at 0x19cc7758460>,\n",
       "  <matplotlib.lines.Line2D at 0x19cc77587f0>],\n",
       " 'caps': [<matplotlib.lines.Line2D at 0x19cc7758b80>,\n",
       "  <matplotlib.lines.Line2D at 0x19cc7758f10>],\n",
       " 'boxes': [<matplotlib.lines.Line2D at 0x19cc77580d0>],\n",
       " 'medians': [<matplotlib.lines.Line2D at 0x19cc77642e0>],\n",
       " 'fliers': [<matplotlib.lines.Line2D at 0x19cc7764670>],\n",
       " 'means': []}"
      ]
     },
     "execution_count": 49,
     "metadata": {},
     "output_type": "execute_result"
    },
    {
     "data": {
      "image/png": "[encoded data removed]",
      "text/plain": [
       "<Figure size 432x288 with 1 Axes>"
      ]
     },
     "metadata": {
      "needs_background": "light"
     },
     "output_type": "display_data"
    }
   ],
   "source": [
    "plt.boxplot(data.height)"
   ]
  },
  {
   "cell_type": "code",
   "execution_count": null,
   "id": "7820ad6d",
   "metadata": {},
   "outputs": [],
   "source": []
  },
  {
   "cell_type": "code",
   "execution_count": 50,
   "id": "a1cd1578",
   "metadata": {},
   "outputs": [
    {
     "data": {
      "text/plain": [
       "ShapiroResult(statistic=0.9842321276664734, pvalue=0.021682262420654297)"
      ]
     },
     "execution_count": 50,
     "metadata": {},
     "output_type": "execute_result"
    }
   ],
   "source": [
    "stats.shapiro(data.height)"
   ]
  },
  {
   "cell_type": "code",
   "execution_count": 51,
   "id": "62e0828d",
   "metadata": {},
   "outputs": [
    {
     "data": {
      "text/plain": [
       "count     205.000000\n",
       "mean     2555.565854\n",
       "std       520.680204\n",
       "min      1488.000000\n",
       "25%      2145.000000\n",
       "50%      2414.000000\n",
       "75%      2935.000000\n",
       "max      4066.000000\n",
       "Name: curb_weight, dtype: float64"
      ]
     },
     "execution_count": 51,
     "metadata": {},
     "output_type": "execute_result"
    }
   ],
   "source": [
    "data.curb_weight.describe()"
   ]
  },
  {
   "cell_type": "code",
   "execution_count": 52,
   "id": "751435ad",
   "metadata": {},
   "outputs": [
    {
     "data": {
      "text/plain": [
       "{'whiskers': [<matplotlib.lines.Line2D at 0x19cc77b8e50>,\n",
       "  <matplotlib.lines.Line2D at 0x19cc77c9250>],\n",
       " 'caps': [<matplotlib.lines.Line2D at 0x19cc77c95e0>,\n",
       "  <matplotlib.lines.Line2D at 0x19cc77c9910>],\n",
       " 'boxes': [<matplotlib.lines.Line2D at 0x19cc77b8a90>],\n",
       " 'medians': [<matplotlib.lines.Line2D at 0x19cc77c9ca0>],\n",
       " 'fliers': [<matplotlib.lines.Line2D at 0x19cc77d7070>],\n",
       " 'means': []}"
      ]
     },
     "execution_count": 52,
     "metadata": {},
     "output_type": "execute_result"
    },
    {
     "data": {
      "image/png": "[encoded data removed]",
      "text/plain": [
       "<Figure size 432x288 with 1 Axes>"
      ]
     },
     "metadata": {
      "needs_background": "light"
     },
     "output_type": "display_data"
    }
   ],
   "source": [
    "plt.boxplot(data.curb_weight)"
   ]
  },
  {
   "cell_type": "code",
   "execution_count": 53,
   "id": "a1b5ffba",
   "metadata": {},
   "outputs": [
    {
     "data": {
      "text/plain": [
       "(array([ 2., 29., 33., 50., 25., 23., 26.,  8.,  5.,  4.]),\n",
       " array([1488. , 1745.8, 2003.6, 2261.4, 2519.2, 2777. , 3034.8, 3292.6,\n",
       "        3550.4, 3808.2, 4066. ]),\n",
       " <BarContainer object of 10 artists>)"
      ]
     },
     "execution_count": 53,
     "metadata": {},
     "output_type": "execute_result"
    },
    {
     "data": {
      "image/png": "[encoded data removed]",
      "text/plain": [
       "<Figure size 432x288 with 1 Axes>"
      ]
     },
     "metadata": {
      "needs_background": "light"
     },
     "output_type": "display_data"
    }
   ],
   "source": [
    "plt.hist(data.curb_weight)"
   ]
  },
  {
   "cell_type": "code",
   "execution_count": 54,
   "id": "957c59ac",
   "metadata": {},
   "outputs": [
    {
     "data": {
      "text/plain": [
       "ShapiroResult(statistic=0.9530424475669861, pvalue=2.8916113024024526e-06)"
      ]
     },
     "execution_count": 54,
     "metadata": {},
     "output_type": "execute_result"
    }
   ],
   "source": [
    "stats.shapiro(data.curb_weight)"
   ]
  },
  {
   "cell_type": "code",
   "execution_count": 55,
   "id": "2121756d",
   "metadata": {},
   "outputs": [
    {
     "data": {
      "text/plain": [
       "count     205\n",
       "unique      7\n",
       "top       ohc\n",
       "freq      148\n",
       "Name: engine_type, dtype: object"
      ]
     },
     "execution_count": 55,
     "metadata": {},
     "output_type": "execute_result"
    }
   ],
   "source": [
    "data.engine_type.describe()"
   ]
  },
  {
   "cell_type": "code",
   "execution_count": 56,
   "id": "25281675",
   "metadata": {},
   "outputs": [
    {
     "data": {
      "text/plain": [
       "ohc      148\n",
       "ohcf      15\n",
       "ohcv      13\n",
       "dohc      12\n",
       "l         12\n",
       "rotor      4\n",
       "dohcv      1\n",
       "Name: engine_type, dtype: int64"
      ]
     },
     "execution_count": 56,
     "metadata": {},
     "output_type": "execute_result"
    }
   ],
   "source": [
    "data.engine_type.value_counts()"
   ]
  },
  {
   "cell_type": "code",
   "execution_count": 57,
   "id": "dd215c54",
   "metadata": {},
   "outputs": [
    {
     "data": {
      "text/plain": [
       "<AxesSubplot:xlabel='engine_type', ylabel='count'>"
      ]
     },
     "execution_count": 57,
     "metadata": {},
     "output_type": "execute_result"
    },
    {
     "data": {
      "image/png": "[encoded data removed]",
      "text/plain": [
       "<Figure size 432x288 with 1 Axes>"
      ]
     },
     "metadata": {
      "needs_background": "light"
     },
     "output_type": "display_data"
    }
   ],
   "source": [
    "sns.countplot(x=\"engine_type\",data=data)"
   ]
  },
  {
   "cell_type": "code",
   "execution_count": 58,
   "id": "0625e45c",
   "metadata": {},
   "outputs": [
    {
     "data": {
      "text/plain": [
       "count      205\n",
       "unique       7\n",
       "top       four\n",
       "freq       159\n",
       "Name: num_of_cylinders, dtype: object"
      ]
     },
     "execution_count": 58,
     "metadata": {},
     "output_type": "execute_result"
    }
   ],
   "source": [
    "data.num_of_cylinders.describe()"
   ]
  },
  {
   "cell_type": "code",
   "execution_count": 59,
   "id": "e3acaf40",
   "metadata": {},
   "outputs": [
    {
     "data": {
      "text/plain": [
       "four      159\n",
       "six        24\n",
       "five       11\n",
       "eight       5\n",
       "two         4\n",
       "three       1\n",
       "twelve      1\n",
       "Name: num_of_cylinders, dtype: int64"
      ]
     },
     "execution_count": 59,
     "metadata": {},
     "output_type": "execute_result"
    }
   ],
   "source": [
    "data.num_of_cylinders.value_counts()"
   ]
  },
  {
   "cell_type": "code",
   "execution_count": 60,
   "id": "0745e889",
   "metadata": {},
   "outputs": [
    {
     "data": {
      "text/plain": [
       "<AxesSubplot:xlabel='num_of_cylinders', ylabel='count'>"
      ]
     },
     "execution_count": 60,
     "metadata": {},
     "output_type": "execute_result"
    },
    {
     "data": {
      "image/png": "[encoded data removed]",
      "text/plain": [
       "<Figure size 432x288 with 1 Axes>"
      ]
     },
     "metadata": {
      "needs_background": "light"
     },
     "output_type": "display_data"
    }
   ],
   "source": [
    "sns.countplot(x=\"num_of_cylinders\",data=data)"
   ]
  },
  {
   "cell_type": "code",
   "execution_count": 61,
   "id": "95e268af",
   "metadata": {},
   "outputs": [
    {
     "data": {
      "text/plain": [
       "<AxesSubplot:xlabel='num_of_cylinders', ylabel='count'>"
      ]
     },
     "execution_count": 61,
     "metadata": {},
     "output_type": "execute_result"
    },
    {
     "data": {
      "image/png": "[encoded data removed]",
      "text/plain": [
       "<Figure size 432x288 with 1 Axes>"
      ]
     },
     "metadata": {
      "needs_background": "light"
     },
     "output_type": "display_data"
    }
   ],
   "source": [
    "data.num_of_cylinders=data.num_of_cylinders.replace([\"two\",\"three\",\"four\"],\"below four\")\n",
    "data.num_of_cylinders=data.num_of_cylinders.replace([\"five\",\"six\",\"eight\",\"twelve\"],\"above four\")\n",
    "sns.countplot(x=\"num_of_cylinders\",data=data,order=[\"below four\",\"above four\"])"
   ]
  },
  {
   "cell_type": "code",
   "execution_count": 62,
   "id": "c2f124c7",
   "metadata": {},
   "outputs": [
    {
     "data": {
      "text/plain": [
       "count    205.000000\n",
       "mean     126.907317\n",
       "std       41.642693\n",
       "min       61.000000\n",
       "25%       97.000000\n",
       "50%      120.000000\n",
       "75%      141.000000\n",
       "max      326.000000\n",
       "Name: engine_size, dtype: float64"
      ]
     },
     "execution_count": 62,
     "metadata": {},
     "output_type": "execute_result"
    }
   ],
   "source": [
    "data.engine_size.describe()"
   ]
  },
  {
   "cell_type": "code",
   "execution_count": 63,
   "id": "fb5c66cd",
   "metadata": {},
   "outputs": [
    {
     "data": {
      "text/plain": [
       "{'whiskers': [<matplotlib.lines.Line2D at 0x19cc79de7f0>,\n",
       "  <matplotlib.lines.Line2D at 0x19cc79deb80>],\n",
       " 'caps': [<matplotlib.lines.Line2D at 0x19cc79def10>,\n",
       "  <matplotlib.lines.Line2D at 0x19cc7f3a2e0>],\n",
       " 'boxes': [<matplotlib.lines.Line2D at 0x19cc79de490>],\n",
       " 'medians': [<matplotlib.lines.Line2D at 0x19cc7f3a670>],\n",
       " 'fliers': [<matplotlib.lines.Line2D at 0x19cc7f3aa00>],\n",
       " 'means': []}"
      ]
     },
     "execution_count": 63,
     "metadata": {},
     "output_type": "execute_result"
    },
    {
     "data": {
      "image/png": "[encoded data removed]",
      "text/plain": [
       "<Figure size 432x288 with 1 Axes>"
      ]
     },
     "metadata": {
      "needs_background": "light"
     },
     "output_type": "display_data"
    }
   ],
   "source": [
    "plt.boxplot(data.engine_size)"
   ]
  },
  {
   "cell_type": "code",
   "execution_count": 64,
   "id": "53de92c6",
   "metadata": {},
   "outputs": [
    {
     "data": {
      "text/plain": [
       "(array([ 6., 95., 46., 30., 14.,  7.,  2.,  2.,  0.,  3.]),\n",
       " array([ 61. ,  87.5, 114. , 140.5, 167. , 193.5, 220. , 246.5, 273. ,\n",
       "        299.5, 326. ]),\n",
       " <BarContainer object of 10 artists>)"
      ]
     },
     "execution_count": 64,
     "metadata": {},
     "output_type": "execute_result"
    },
    {
     "data": {
      "image/png": "[encoded data removed]",
      "text/plain": [
       "<Figure size 432x288 with 1 Axes>"
      ]
     },
     "metadata": {
      "needs_background": "light"
     },
     "output_type": "display_data"
    }
   ],
   "source": [
    "plt.hist(data.engine_size)"
   ]
  },
  {
   "cell_type": "code",
   "execution_count": 65,
   "id": "4dbd2502",
   "metadata": {},
   "outputs": [
    {
     "data": {
      "text/plain": [
       "ShapiroResult(statistic=0.8294388651847839, pvalue=3.0569154792128156e-14)"
      ]
     },
     "execution_count": 65,
     "metadata": {},
     "output_type": "execute_result"
    }
   ],
   "source": [
    "stats.shapiro(data.engine_size)"
   ]
  },
  {
   "cell_type": "code",
   "execution_count": 66,
   "id": "05493183",
   "metadata": {},
   "outputs": [
    {
     "data": {
      "text/plain": [
       "count      205\n",
       "unique       8\n",
       "top       mpfi\n",
       "freq        94\n",
       "Name: fuel_system, dtype: object"
      ]
     },
     "execution_count": 66,
     "metadata": {},
     "output_type": "execute_result"
    }
   ],
   "source": [
    "data.fuel_system.describe()"
   ]
  },
  {
   "cell_type": "code",
   "execution_count": 67,
   "id": "0305d2f3",
   "metadata": {},
   "outputs": [
    {
     "data": {
      "text/plain": [
       "mpfi    94\n",
       "2bbl    66\n",
       "idi     20\n",
       "1bbl    11\n",
       "spdi     9\n",
       "4bbl     3\n",
       "mfi      1\n",
       "spfi     1\n",
       "Name: fuel_system, dtype: int64"
      ]
     },
     "execution_count": 67,
     "metadata": {},
     "output_type": "execute_result"
    }
   ],
   "source": [
    "data.fuel_system.value_counts()"
   ]
  },
  {
   "cell_type": "code",
   "execution_count": 68,
   "id": "17cff01a",
   "metadata": {},
   "outputs": [
    {
     "data": {
      "text/plain": [
       "<AxesSubplot:xlabel='fuel_system', ylabel='count'>"
      ]
     },
     "execution_count": 68,
     "metadata": {},
     "output_type": "execute_result"
    },
    {
     "data": {
      "image/png": "[encoded data removed]",
      "text/plain": [
       "<Figure size 432x288 with 1 Axes>"
      ]
     },
     "metadata": {
      "needs_background": "light"
     },
     "output_type": "display_data"
    }
   ],
   "source": [
    "sns.countplot(x=\"fuel_system\",data=data)"
   ]
  },
  {
   "cell_type": "code",
   "execution_count": 69,
   "id": "5276b313",
   "metadata": {},
   "outputs": [
    {
     "data": {
      "text/plain": [
       "count    201.000000\n",
       "mean       3.329751\n",
       "std        0.273539\n",
       "min        2.540000\n",
       "25%        3.150000\n",
       "50%        3.310000\n",
       "75%        3.590000\n",
       "max        3.940000\n",
       "Name: bore, dtype: float64"
      ]
     },
     "execution_count": 69,
     "metadata": {},
     "output_type": "execute_result"
    }
   ],
   "source": [
    "data.bore.describe()"
   ]
  },
  {
   "cell_type": "code",
   "execution_count": 70,
   "id": "cab9d0a8",
   "metadata": {},
   "outputs": [
    {
     "data": {
      "text/plain": [
       "{'whiskers': [<matplotlib.lines.Line2D at 0x19cc9047e20>,\n",
       "  <matplotlib.lines.Line2D at 0x19cc90561f0>],\n",
       " 'caps': [<matplotlib.lines.Line2D at 0x19cc9056580>,\n",
       "  <matplotlib.lines.Line2D at 0x19cc9056910>],\n",
       " 'boxes': [<matplotlib.lines.Line2D at 0x19cc9047a90>],\n",
       " 'medians': [<matplotlib.lines.Line2D at 0x19cc9056ca0>],\n",
       " 'fliers': [<matplotlib.lines.Line2D at 0x19cc9062070>],\n",
       " 'means': []}"
      ]
     },
     "execution_count": 70,
     "metadata": {},
     "output_type": "execute_result"
    },
    {
     "data": {
      "image/png": "[encoded data removed]",
      "text/plain": [
       "<Figure size 432x288 with 1 Axes>"
      ]
     },
     "metadata": {
      "needs_background": "light"
     },
     "output_type": "display_data"
    }
   ],
   "source": [
    "plt.boxplot(data.bore)"
   ]
  },
  {
   "cell_type": "code",
   "execution_count": 71,
   "id": "79d83fbb",
   "metadata": {},
   "outputs": [],
   "source": [
    "data.bore.fillna(data.bore.mean(),inplace=True)"
   ]
  },
  {
   "cell_type": "code",
   "execution_count": 72,
   "id": "6ff0aed5",
   "metadata": {},
   "outputs": [
    {
     "data": {
      "text/plain": [
       "{'whiskers': [<matplotlib.lines.Line2D at 0x19cc90b7850>,\n",
       "  <matplotlib.lines.Line2D at 0x19cc90b7be0>],\n",
       " 'caps': [<matplotlib.lines.Line2D at 0x19cc90b7f40>,\n",
       "  <matplotlib.lines.Line2D at 0x19cc90c1310>],\n",
       " 'boxes': [<matplotlib.lines.Line2D at 0x19cc90b7490>],\n",
       " 'medians': [<matplotlib.lines.Line2D at 0x19cc90c16a0>],\n",
       " 'fliers': [<matplotlib.lines.Line2D at 0x19cc90c1a30>],\n",
       " 'means': []}"
      ]
     },
     "execution_count": 72,
     "metadata": {},
     "output_type": "execute_result"
    },
    {
     "data": {
      "image/png": "[encoded data removed]",
      "text/plain": [
       "<Figure size 432x288 with 1 Axes>"
      ]
     },
     "metadata": {
      "needs_background": "light"
     },
     "output_type": "display_data"
    }
   ],
   "source": [
    "plt.boxplot(data.bore)"
   ]
  },
  {
   "cell_type": "code",
   "execution_count": 73,
   "id": "12650475",
   "metadata": {},
   "outputs": [
    {
     "data": {
      "text/plain": [
       "(array([ 1.,  1.,  8., 37., 40., 28., 27., 42., 17.,  4.]),\n",
       " array([2.54, 2.68, 2.82, 2.96, 3.1 , 3.24, 3.38, 3.52, 3.66, 3.8 , 3.94]),\n",
       " <BarContainer object of 10 artists>)"
      ]
     },
     "execution_count": 73,
     "metadata": {},
     "output_type": "execute_result"
    },
    {
     "data": {
      "image/png": "[encoded data removed]",
      "text/plain": [
       "<Figure size 432x288 with 1 Axes>"
      ]
     },
     "metadata": {
      "needs_background": "light"
     },
     "output_type": "display_data"
    }
   ],
   "source": [
    "plt.hist(data.bore)"
   ]
  },
  {
   "cell_type": "code",
   "execution_count": 74,
   "id": "86a547cb",
   "metadata": {},
   "outputs": [
    {
     "data": {
      "text/plain": [
       "ShapiroResult(statistic=0.967185378074646, pvalue=0.00010421191109344363)"
      ]
     },
     "execution_count": 74,
     "metadata": {},
     "output_type": "execute_result"
    }
   ],
   "source": [
    "stats.shapiro(data.bore)"
   ]
  },
  {
   "cell_type": "code",
   "execution_count": 75,
   "id": "4c533381",
   "metadata": {},
   "outputs": [
    {
     "data": {
      "text/plain": [
       "count    201.000000\n",
       "mean       3.255423\n",
       "std        0.316717\n",
       "min        2.070000\n",
       "25%        3.110000\n",
       "50%        3.290000\n",
       "75%        3.410000\n",
       "max        4.170000\n",
       "Name: stroke, dtype: float64"
      ]
     },
     "execution_count": 75,
     "metadata": {},
     "output_type": "execute_result"
    }
   ],
   "source": [
    "data.stroke.describe()"
   ]
  },
  {
   "cell_type": "code",
   "execution_count": 76,
   "id": "f08fcfcb",
   "metadata": {},
   "outputs": [
    {
     "data": {
      "text/plain": [
       "{'whiskers': [<matplotlib.lines.Line2D at 0x19cc91ab610>,\n",
       "  <matplotlib.lines.Line2D at 0x19cc91ab9a0>],\n",
       " 'caps': [<matplotlib.lines.Line2D at 0x19cc91abd30>,\n",
       "  <matplotlib.lines.Line2D at 0x19cc91b6100>],\n",
       " 'boxes': [<matplotlib.lines.Line2D at 0x19cc91ab250>],\n",
       " 'medians': [<matplotlib.lines.Line2D at 0x19cc91b6490>],\n",
       " 'fliers': [<matplotlib.lines.Line2D at 0x19cc91b6820>],\n",
       " 'means': []}"
      ]
     },
     "execution_count": 76,
     "metadata": {},
     "output_type": "execute_result"
    },
    {
     "data": {
      "image/png": "[encoded data removed]",
      "text/plain": [
       "<Figure size 432x288 with 1 Axes>"
      ]
     },
     "metadata": {
      "needs_background": "light"
     },
     "output_type": "display_data"
    }
   ],
   "source": [
    "plt.boxplot(data.stroke)"
   ]
  },
  {
   "cell_type": "code",
   "execution_count": 77,
   "id": "c7f4455c",
   "metadata": {},
   "outputs": [],
   "source": [
    "data.stroke.fillna(data.stroke.median(),inplace=True)"
   ]
  },
  {
   "cell_type": "code",
   "execution_count": 78,
   "id": "eb389bd1",
   "metadata": {},
   "outputs": [
    {
     "data": {
      "text/plain": [
       "{'whiskers': [<matplotlib.lines.Line2D at 0x19cc9215160>,\n",
       "  <matplotlib.lines.Line2D at 0x19cc92154f0>],\n",
       " 'caps': [<matplotlib.lines.Line2D at 0x19cc9215970>,\n",
       "  <matplotlib.lines.Line2D at 0x19cc9215cd0>],\n",
       " 'boxes': [<matplotlib.lines.Line2D at 0x19cc9204d90>],\n",
       " 'medians': [<matplotlib.lines.Line2D at 0x19cc9215fd0>],\n",
       " 'fliers': [<matplotlib.lines.Line2D at 0x19cc921f370>],\n",
       " 'means': []}"
      ]
     },
     "execution_count": 78,
     "metadata": {},
     "output_type": "execute_result"
    },
    {
     "data": {
      "image/png": "[encoded data removed]",
      "text/plain": [
       "<Figure size 432x288 with 1 Axes>"
      ]
     },
     "metadata": {
      "needs_background": "light"
     },
     "output_type": "display_data"
    }
   ],
   "source": [
    "plt.boxplot(data.stroke)"
   ]
  },
  {
   "cell_type": "code",
   "execution_count": 79,
   "id": "fc80dbee",
   "metadata": {},
   "outputs": [
    {
     "data": {
      "text/plain": [
       "(array([ 3.,  1., 13.,  7., 30., 56., 71., 15.,  7.,  2.]),\n",
       " array([2.07, 2.28, 2.49, 2.7 , 2.91, 3.12, 3.33, 3.54, 3.75, 3.96, 4.17]),\n",
       " <BarContainer object of 10 artists>)"
      ]
     },
     "execution_count": 79,
     "metadata": {},
     "output_type": "execute_result"
    },
    {
     "data": {
      "image/png": "[encoded data removed]",
      "text/plain": [
       "<Figure size 432x288 with 1 Axes>"
      ]
     },
     "metadata": {
      "needs_background": "light"
     },
     "output_type": "display_data"
    }
   ],
   "source": [
    "plt.hist(data.stroke)"
   ]
  },
  {
   "cell_type": "code",
   "execution_count": 80,
   "id": "6fcfb7c4",
   "metadata": {},
   "outputs": [
    {
     "data": {
      "text/plain": [
       "ShapiroResult(statistic=0.9372692704200745, pvalue=9.892903563013533e-08)"
      ]
     },
     "execution_count": 80,
     "metadata": {},
     "output_type": "execute_result"
    }
   ],
   "source": [
    "stats.shapiro(data.stroke)"
   ]
  },
  {
   "cell_type": "code",
   "execution_count": 81,
   "id": "ecdb6cf5",
   "metadata": {},
   "outputs": [
    {
     "data": {
      "text/plain": [
       "count    205.000000\n",
       "mean      10.142537\n",
       "std        3.972040\n",
       "min        7.000000\n",
       "25%        8.600000\n",
       "50%        9.000000\n",
       "75%        9.400000\n",
       "max       23.000000\n",
       "Name: compression_ratio, dtype: float64"
      ]
     },
     "execution_count": 81,
     "metadata": {},
     "output_type": "execute_result"
    }
   ],
   "source": [
    "data.compression_ratio.describe()"
   ]
  },
  {
   "cell_type": "code",
   "execution_count": 82,
   "id": "58f138d8",
   "metadata": {},
   "outputs": [
    {
     "data": {
      "text/plain": [
       "{'whiskers': [<matplotlib.lines.Line2D at 0x19cc92e3b20>,\n",
       "  <matplotlib.lines.Line2D at 0x19cc92e3eb0>],\n",
       " 'caps': [<matplotlib.lines.Line2D at 0x19cc92f1280>,\n",
       "  <matplotlib.lines.Line2D at 0x19cc92f1610>],\n",
       " 'boxes': [<matplotlib.lines.Line2D at 0x19cc92e3760>],\n",
       " 'medians': [<matplotlib.lines.Line2D at 0x19cc92f19a0>],\n",
       " 'fliers': [<matplotlib.lines.Line2D at 0x19cc92f1d30>],\n",
       " 'means': []}"
      ]
     },
     "execution_count": 82,
     "metadata": {},
     "output_type": "execute_result"
    },
    {
     "data": {
      "image/png": "[encoded data removed]",
      "text/plain": [
       "<Figure size 432x288 with 1 Axes>"
      ]
     },
     "metadata": {
      "needs_background": "light"
     },
     "output_type": "display_data"
    }
   ],
   "source": [
    "plt.boxplot(data.compression_ratio)"
   ]
  },
  {
   "cell_type": "code",
   "execution_count": 83,
   "id": "d6faf2a0",
   "metadata": {},
   "outputs": [
    {
     "data": {
      "text/plain": [
       "(array([ 51., 133.,   1.,   0.,   0.,   0.,   0.,   0.,   5.,  15.]),\n",
       " array([ 7. ,  8.6, 10.2, 11.8, 13.4, 15. , 16.6, 18.2, 19.8, 21.4, 23. ]),\n",
       " <BarContainer object of 10 artists>)"
      ]
     },
     "execution_count": 83,
     "metadata": {},
     "output_type": "execute_result"
    },
    {
     "data": {
      "image/png": "[encoded data removed]",
      "text/plain": [
       "<Figure size 432x288 with 1 Axes>"
      ]
     },
     "metadata": {
      "needs_background": "light"
     },
     "output_type": "display_data"
    }
   ],
   "source": [
    "plt.hist(data.compression_ratio)"
   ]
  },
  {
   "cell_type": "code",
   "execution_count": 84,
   "id": "2c46f103",
   "metadata": {},
   "outputs": [
    {
     "data": {
      "text/plain": [
       "ShapiroResult(statistic=0.49774158000946045, pvalue=8.12114079238121e-24)"
      ]
     },
     "execution_count": 84,
     "metadata": {},
     "output_type": "execute_result"
    }
   ],
   "source": [
    "stats.shapiro(data.compression_ratio)"
   ]
  },
  {
   "cell_type": "code",
   "execution_count": 85,
   "id": "036f4d63",
   "metadata": {},
   "outputs": [
    {
     "data": {
      "text/plain": [
       "count    203.000000\n",
       "mean     104.256158\n",
       "std       39.714369\n",
       "min       48.000000\n",
       "25%       70.000000\n",
       "50%       95.000000\n",
       "75%      116.000000\n",
       "max      288.000000\n",
       "Name: horsepower, dtype: float64"
      ]
     },
     "execution_count": 85,
     "metadata": {},
     "output_type": "execute_result"
    }
   ],
   "source": [
    "data.horsepower.describe()"
   ]
  },
  {
   "cell_type": "code",
   "execution_count": 86,
   "id": "340c3762",
   "metadata": {},
   "outputs": [
    {
     "data": {
      "text/plain": [
       "{'whiskers': [<matplotlib.lines.Line2D at 0x19cc93d46d0>,\n",
       "  <matplotlib.lines.Line2D at 0x19cc93d4a60>],\n",
       " 'caps': [<matplotlib.lines.Line2D at 0x19cc93d4df0>,\n",
       "  <matplotlib.lines.Line2D at 0x19cc93df1f0>],\n",
       " 'boxes': [<matplotlib.lines.Line2D at 0x19cc93d4340>],\n",
       " 'medians': [<matplotlib.lines.Line2D at 0x19cc93df580>],\n",
       " 'fliers': [<matplotlib.lines.Line2D at 0x19cc93df910>],\n",
       " 'means': []}"
      ]
     },
     "execution_count": 86,
     "metadata": {},
     "output_type": "execute_result"
    },
    {
     "data": {
      "image/png": "[encoded data removed]",
      "text/plain": [
       "<Figure size 432x288 with 1 Axes>"
      ]
     },
     "metadata": {
      "needs_background": "light"
     },
     "output_type": "display_data"
    }
   ],
   "source": [
    "plt.boxplot(data.horsepower)"
   ]
  },
  {
   "cell_type": "code",
   "execution_count": 87,
   "id": "347ae9bd",
   "metadata": {},
   "outputs": [],
   "source": [
    "data.horsepower.fillna(data.horsepower.median(),inplace=True)"
   ]
  },
  {
   "cell_type": "code",
   "execution_count": 88,
   "id": "0582c048",
   "metadata": {},
   "outputs": [
    {
     "data": {
      "text/plain": [
       "{'whiskers': [<matplotlib.lines.Line2D at 0x19cc9434a30>,\n",
       "  <matplotlib.lines.Line2D at 0x19cc9434dc0>],\n",
       " 'caps': [<matplotlib.lines.Line2D at 0x19cc9443190>,\n",
       "  <matplotlib.lines.Line2D at 0x19cc9443520>],\n",
       " 'boxes': [<matplotlib.lines.Line2D at 0x19cc94346a0>],\n",
       " 'medians': [<matplotlib.lines.Line2D at 0x19cc94438b0>],\n",
       " 'fliers': [<matplotlib.lines.Line2D at 0x19cc9443c40>],\n",
       " 'means': []}"
      ]
     },
     "execution_count": 88,
     "metadata": {},
     "output_type": "execute_result"
    },
    {
     "data": {
      "image/png": "[encoded data removed]",
      "text/plain": [
       "<Figure size 432x288 with 1 Axes>"
      ]
     },
     "metadata": {
      "needs_background": "light"
     },
     "output_type": "display_data"
    }
   ],
   "source": [
    "plt.boxplot(data.horsepower)\n"
   ]
  },
  {
   "cell_type": "code",
   "execution_count": 89,
   "id": "c969dd49",
   "metadata": {},
   "outputs": [
    {
     "data": {
      "text/plain": [
       "(array([55., 51., 49., 13., 23.,  8.,  4.,  0.,  1.,  1.]),\n",
       " array([ 48.,  72.,  96., 120., 144., 168., 192., 216., 240., 264., 288.]),\n",
       " <BarContainer object of 10 artists>)"
      ]
     },
     "execution_count": 89,
     "metadata": {},
     "output_type": "execute_result"
    },
    {
     "data": {
      "image/png": "[encoded data removed]",
      "text/plain": [
       "<Figure size 432x288 with 1 Axes>"
      ]
     },
     "metadata": {
      "needs_background": "light"
     },
     "output_type": "display_data"
    }
   ],
   "source": [
    "plt.hist(data.horsepower)"
   ]
  },
  {
   "cell_type": "code",
   "execution_count": 90,
   "id": "2b7e0bc2",
   "metadata": {},
   "outputs": [
    {
     "data": {
      "text/plain": [
       "ShapiroResult(statistic=0.8840506672859192, pvalue=1.8387607408909545e-11)"
      ]
     },
     "execution_count": 90,
     "metadata": {},
     "output_type": "execute_result"
    }
   ],
   "source": [
    "stats.shapiro(data.horsepower)"
   ]
  },
  {
   "cell_type": "code",
   "execution_count": 91,
   "id": "147a0f2c",
   "metadata": {},
   "outputs": [
    {
     "data": {
      "text/plain": [
       "count     203.000000\n",
       "mean     5125.369458\n",
       "std       479.334560\n",
       "min      4150.000000\n",
       "25%      4800.000000\n",
       "50%      5200.000000\n",
       "75%      5500.000000\n",
       "max      6600.000000\n",
       "Name: peak_rpm, dtype: float64"
      ]
     },
     "execution_count": 91,
     "metadata": {},
     "output_type": "execute_result"
    }
   ],
   "source": [
    "data.peak_rpm.describe()"
   ]
  },
  {
   "cell_type": "code",
   "execution_count": 92,
   "id": "6f923f27",
   "metadata": {},
   "outputs": [
    {
     "data": {
      "text/plain": [
       "{'whiskers': [<matplotlib.lines.Line2D at 0x19cc950aaf0>,\n",
       "  <matplotlib.lines.Line2D at 0x19cc950ae80>],\n",
       " 'caps': [<matplotlib.lines.Line2D at 0x19cc9519250>,\n",
       "  <matplotlib.lines.Line2D at 0x19cc95195e0>],\n",
       " 'boxes': [<matplotlib.lines.Line2D at 0x19cc950a760>],\n",
       " 'medians': [<matplotlib.lines.Line2D at 0x19cc9519970>],\n",
       " 'fliers': [<matplotlib.lines.Line2D at 0x19cc9519d00>],\n",
       " 'means': []}"
      ]
     },
     "execution_count": 92,
     "metadata": {},
     "output_type": "execute_result"
    },
    {
     "data": {
      "image/png": "[encoded data removed]",
      "text/plain": [
       "<Figure size 432x288 with 1 Axes>"
      ]
     },
     "metadata": {
      "needs_background": "light"
     },
     "output_type": "display_data"
    }
   ],
   "source": [
    "plt.boxplot(data.peak_rpm)"
   ]
  },
  {
   "cell_type": "code",
   "execution_count": 93,
   "id": "ef0494d4",
   "metadata": {},
   "outputs": [],
   "source": [
    "data.peak_rpm.fillna(data.peak_rpm.median(),inplace=True)"
   ]
  },
  {
   "cell_type": "code",
   "execution_count": 94,
   "id": "37e7ac6d",
   "metadata": {},
   "outputs": [
    {
     "data": {
      "text/plain": [
       "{'whiskers': [<matplotlib.lines.Line2D at 0x19cc957d520>,\n",
       "  <matplotlib.lines.Line2D at 0x19cc957d8b0>],\n",
       " 'caps': [<matplotlib.lines.Line2D at 0x19cc957dc40>,\n",
       "  <matplotlib.lines.Line2D at 0x19cc957dfd0>],\n",
       " 'boxes': [<matplotlib.lines.Line2D at 0x19cc957d190>],\n",
       " 'medians': [<matplotlib.lines.Line2D at 0x19cc95863a0>],\n",
       " 'fliers': [<matplotlib.lines.Line2D at 0x19cc9586730>],\n",
       " 'means': []}"
      ]
     },
     "execution_count": 94,
     "metadata": {},
     "output_type": "execute_result"
    },
    {
     "data": {
      "image/png": "[encoded data removed]",
      "text/plain": [
       "<Figure size 432x288 with 1 Axes>"
      ]
     },
     "metadata": {
      "needs_background": "light"
     },
     "output_type": "display_data"
    }
   ],
   "source": [
    "plt.boxplot(data.peak_rpm)\n"
   ]
  },
  {
   "cell_type": "code",
   "execution_count": 95,
   "id": "86301c3b",
   "metadata": {},
   "outputs": [
    {
     "data": {
      "text/plain": [
       "(array([17., 10., 41., 31., 33., 51.,  8., 12.,  0.,  2.]),\n",
       " array([4150., 4395., 4640., 4885., 5130., 5375., 5620., 5865., 6110.,\n",
       "        6355., 6600.]),\n",
       " <BarContainer object of 10 artists>)"
      ]
     },
     "execution_count": 95,
     "metadata": {},
     "output_type": "execute_result"
    },
    {
     "data": {
      "image/png": "[encoded data removed]",
      "text/plain": [
       "<Figure size 432x288 with 1 Axes>"
      ]
     },
     "metadata": {
      "needs_background": "light"
     },
     "output_type": "display_data"
    }
   ],
   "source": [
    "plt.hist(data.peak_rpm)"
   ]
  },
  {
   "cell_type": "code",
   "execution_count": 96,
   "id": "a44a3dfc",
   "metadata": {},
   "outputs": [
    {
     "data": {
      "text/plain": [
       "ShapiroResult(statistic=0.9701935648918152, pvalue=0.00024416492669843137)"
      ]
     },
     "execution_count": 96,
     "metadata": {},
     "output_type": "execute_result"
    }
   ],
   "source": [
    "stats.shapiro(data.peak_rpm)"
   ]
  },
  {
   "cell_type": "code",
   "execution_count": 97,
   "id": "330dd51c",
   "metadata": {},
   "outputs": [
    {
     "data": {
      "text/plain": [
       "count    205.000000\n",
       "mean      25.219512\n",
       "std        6.542142\n",
       "min       13.000000\n",
       "25%       19.000000\n",
       "50%       24.000000\n",
       "75%       30.000000\n",
       "max       49.000000\n",
       "Name: city_mpg, dtype: float64"
      ]
     },
     "execution_count": 97,
     "metadata": {},
     "output_type": "execute_result"
    }
   ],
   "source": [
    "data.city_mpg.describe()"
   ]
  },
  {
   "cell_type": "code",
   "execution_count": 98,
   "id": "1b742b96",
   "metadata": {},
   "outputs": [
    {
     "data": {
      "text/plain": [
       "{'whiskers': [<matplotlib.lines.Line2D at 0x19cc9644b20>,\n",
       "  <matplotlib.lines.Line2D at 0x19cc9644eb0>],\n",
       " 'caps': [<matplotlib.lines.Line2D at 0x19cc9651280>,\n",
       "  <matplotlib.lines.Line2D at 0x19cc9651610>],\n",
       " 'boxes': [<matplotlib.lines.Line2D at 0x19cc9644790>],\n",
       " 'medians': [<matplotlib.lines.Line2D at 0x19cc96519a0>],\n",
       " 'fliers': [<matplotlib.lines.Line2D at 0x19cc9651d30>],\n",
       " 'means': []}"
      ]
     },
     "execution_count": 98,
     "metadata": {},
     "output_type": "execute_result"
    },
    {
     "data": {
      "image/png": "[encoded data removed]",
      "text/plain": [
       "<Figure size 432x288 with 1 Axes>"
      ]
     },
     "metadata": {
      "needs_background": "light"
     },
     "output_type": "display_data"
    }
   ],
   "source": [
    "plt.boxplot(data.city_mpg)"
   ]
  },
  {
   "cell_type": "code",
   "execution_count": 99,
   "id": "67e90d5d",
   "metadata": {},
   "outputs": [
    {
     "data": {
      "text/plain": [
       "(array([12., 46., 24., 56., 18., 31., 15.,  0.,  1.,  2.]),\n",
       " array([13. , 16.6, 20.2, 23.8, 27.4, 31. , 34.6, 38.2, 41.8, 45.4, 49. ]),\n",
       " <BarContainer object of 10 artists>)"
      ]
     },
     "execution_count": 99,
     "metadata": {},
     "output_type": "execute_result"
    },
    {
     "data": {
      "image/png": "[encoded data removed]",
      "text/plain": [
       "<Figure size 432x288 with 1 Axes>"
      ]
     },
     "metadata": {
      "needs_background": "light"
     },
     "output_type": "display_data"
    }
   ],
   "source": [
    "plt.hist(data.city_mpg)"
   ]
  },
  {
   "cell_type": "code",
   "execution_count": 100,
   "id": "04dd4eb3",
   "metadata": {},
   "outputs": [
    {
     "data": {
      "text/plain": [
       "ShapiroResult(statistic=0.9572238922119141, pvalue=7.825866305211093e-06)"
      ]
     },
     "execution_count": 100,
     "metadata": {},
     "output_type": "execute_result"
    }
   ],
   "source": [
    "stats.shapiro(data.city_mpg)"
   ]
  },
  {
   "cell_type": "code",
   "execution_count": 101,
   "id": "8d2134be",
   "metadata": {},
   "outputs": [
    {
     "data": {
      "text/plain": [
       "count    205.000000\n",
       "mean      30.751220\n",
       "std        6.886443\n",
       "min       16.000000\n",
       "25%       25.000000\n",
       "50%       30.000000\n",
       "75%       34.000000\n",
       "max       54.000000\n",
       "Name: highway_mpg, dtype: float64"
      ]
     },
     "execution_count": 101,
     "metadata": {},
     "output_type": "execute_result"
    }
   ],
   "source": [
    "data.highway_mpg.describe()"
   ]
  },
  {
   "cell_type": "code",
   "execution_count": 102,
   "id": "c34f6f81",
   "metadata": {},
   "outputs": [
    {
     "data": {
      "text/plain": [
       "{'whiskers': [<matplotlib.lines.Line2D at 0x19cc97266d0>,\n",
       "  <matplotlib.lines.Line2D at 0x19cc9726a60>],\n",
       " 'caps': [<matplotlib.lines.Line2D at 0x19cc9726df0>,\n",
       "  <matplotlib.lines.Line2D at 0x19cc97331c0>],\n",
       " 'boxes': [<matplotlib.lines.Line2D at 0x19cc9726340>],\n",
       " 'medians': [<matplotlib.lines.Line2D at 0x19cc9733550>],\n",
       " 'fliers': [<matplotlib.lines.Line2D at 0x19cc97338e0>],\n",
       " 'means': []}"
      ]
     },
     "execution_count": 102,
     "metadata": {},
     "output_type": "execute_result"
    },
    {
     "data": {
      "image/png": "[encoded data removed]",
      "text/plain": [
       "<Figure size 432x288 with 1 Axes>"
      ]
     },
     "metadata": {
      "needs_background": "light"
     },
     "output_type": "display_data"
    }
   ],
   "source": [
    "plt.boxplot(data.highway_mpg)"
   ]
  },
  {
   "cell_type": "code",
   "execution_count": 103,
   "id": "c0c67de8",
   "metadata": {},
   "outputs": [
    {
     "data": {
      "text/plain": [
       "(array([ 7., 17., 44., 47., 39., 32.,  8.,  6.,  3.,  2.]),\n",
       " array([16. , 19.8, 23.6, 27.4, 31.2, 35. , 38.8, 42.6, 46.4, 50.2, 54. ]),\n",
       " <BarContainer object of 10 artists>)"
      ]
     },
     "execution_count": 103,
     "metadata": {},
     "output_type": "execute_result"
    },
    {
     "data": {
      "image/png": "[encoded data removed]",
      "text/plain": [
       "<Figure size 432x288 with 1 Axes>"
      ]
     },
     "metadata": {
      "needs_background": "light"
     },
     "output_type": "display_data"
    }
   ],
   "source": [
    "plt.hist(data.highway_mpg)"
   ]
  },
  {
   "cell_type": "code",
   "execution_count": 104,
   "id": "bc119e6e",
   "metadata": {},
   "outputs": [
    {
     "data": {
      "text/plain": [
       "ShapiroResult(statistic=0.9735103845596313, pvalue=0.0006515368004329503)"
      ]
     },
     "execution_count": 104,
     "metadata": {},
     "output_type": "execute_result"
    }
   ],
   "source": [
    "stats.shapiro(data.highway_mpg)"
   ]
  },
  {
   "cell_type": "code",
   "execution_count": 105,
   "id": "e2f89644",
   "metadata": {},
   "outputs": [
    {
     "data": {
      "text/plain": [
       "count      201.000000\n",
       "mean     13207.129353\n",
       "std       7947.066342\n",
       "min       5118.000000\n",
       "25%       7775.000000\n",
       "50%      10295.000000\n",
       "75%      16500.000000\n",
       "max      45400.000000\n",
       "Name: price, dtype: float64"
      ]
     },
     "execution_count": 105,
     "metadata": {},
     "output_type": "execute_result"
    }
   ],
   "source": [
    "data.price.describe()"
   ]
  },
  {
   "cell_type": "code",
   "execution_count": 106,
   "id": "0f4ac0f3",
   "metadata": {},
   "outputs": [
    {
     "data": {
      "text/plain": [
       "{'whiskers': [<matplotlib.lines.Line2D at 0x19cc9811880>,\n",
       "  <matplotlib.lines.Line2D at 0x19cc9811c10>],\n",
       " 'caps': [<matplotlib.lines.Line2D at 0x19cc9811fa0>,\n",
       "  <matplotlib.lines.Line2D at 0x19cc981d370>],\n",
       " 'boxes': [<matplotlib.lines.Line2D at 0x19cc98114f0>],\n",
       " 'medians': [<matplotlib.lines.Line2D at 0x19cc981d700>],\n",
       " 'fliers': [<matplotlib.lines.Line2D at 0x19cc981da90>],\n",
       " 'means': []}"
      ]
     },
     "execution_count": 106,
     "metadata": {},
     "output_type": "execute_result"
    },
    {
     "data": {
      "image/png": "[encoded data removed]",
      "text/plain": [
       "<Figure size 432x288 with 1 Axes>"
      ]
     },
     "metadata": {
      "needs_background": "light"
     },
     "output_type": "display_data"
    }
   ],
   "source": [
    "plt.boxplot(data.price)"
   ]
  },
  {
   "cell_type": "code",
   "execution_count": 107,
   "id": "b8d4a1ba",
   "metadata": {},
   "outputs": [],
   "source": [
    "data.price.fillna(data.price.median(),inplace=True)"
   ]
  },
  {
   "cell_type": "code",
   "execution_count": 108,
   "id": "c02a6b56",
   "metadata": {
    "scrolled": true
   },
   "outputs": [
    {
     "data": {
      "text/plain": [
       "{'whiskers': [<matplotlib.lines.Line2D at 0x19cc987d370>,\n",
       "  <matplotlib.lines.Line2D at 0x19cc987d700>],\n",
       " 'caps': [<matplotlib.lines.Line2D at 0x19cc987da90>,\n",
       "  <matplotlib.lines.Line2D at 0x19cc987de20>],\n",
       " 'boxes': [<matplotlib.lines.Line2D at 0x19cc987d040>],\n",
       " 'medians': [<matplotlib.lines.Line2D at 0x19cc98891f0>],\n",
       " 'fliers': [<matplotlib.lines.Line2D at 0x19cc9889580>],\n",
       " 'means': []}"
      ]
     },
     "execution_count": 108,
     "metadata": {},
     "output_type": "execute_result"
    },
    {
     "data": {
      "image/png": "[encoded data removed]",
      "text/plain": [
       "<Figure size 432x288 with 1 Axes>"
      ]
     },
     "metadata": {
      "needs_background": "light"
     },
     "output_type": "display_data"
    }
   ],
   "source": [
    "plt.boxplot(data.price)"
   ]
  },
  {
   "cell_type": "code",
   "execution_count": 109,
   "id": "bd90e293",
   "metadata": {},
   "outputs": [
    {
     "data": {
      "text/plain": [
       "ShapiroResult(statistic=0.7954238057136536, pvalue=1.144922258705021e-15)"
      ]
     },
     "execution_count": 109,
     "metadata": {},
     "output_type": "execute_result"
    }
   ],
   "source": [
    "stats.shapiro(data.price)"
   ]
  },
  {
   "cell_type": "code",
   "execution_count": 110,
   "id": "c8671e1c",
   "metadata": {
    "scrolled": true
   },
   "outputs": [
    {
     "data": {
      "text/plain": [
       "(array([81., 49., 35., 17.,  6.,  3.,  4.,  7.,  2.,  1.]),\n",
       " array([ 5118. ,  9146.2, 13174.4, 17202.6, 21230.8, 25259. , 29287.2,\n",
       "        33315.4, 37343.6, 41371.8, 45400. ]),\n",
       " <BarContainer object of 10 artists>)"
      ]
     },
     "execution_count": 110,
     "metadata": {},
     "output_type": "execute_result"
    },
    {
     "data": {
      "image/png": "[encoded data removed]",
      "text/plain": [
       "<Figure size 432x288 with 1 Axes>"
      ]
     },
     "metadata": {
      "needs_background": "light"
     },
     "output_type": "display_data"
    }
   ],
   "source": [
    "plt.hist(data.price)"
   ]
  },
  {
   "cell_type": "markdown",
   "id": "015b0b05",
   "metadata": {},
   "source": [
    "<h2 style=\"color:green\"> CORELATION COEFFICIENT </h2>"
   ]
  },
  {
   "cell_type": "code",
   "execution_count": 111,
   "id": "871aa084",
   "metadata": {},
   "outputs": [
    {
     "data": {
      "text/plain": [
       "(0.8603427324326135, 2.5111938680510033e-61)"
      ]
     },
     "execution_count": 111,
     "metadata": {},
     "output_type": "execute_result"
    }
   ],
   "source": [
    "pearsonr(data.engine_size,data.price)"
   ]
  },
  {
   "cell_type": "code",
   "execution_count": 112,
   "id": "31e706d9",
   "metadata": {},
   "outputs": [
    {
     "data": {
      "text/plain": [
       "(0.7499191229023525, 2.7701494645429105e-38)"
      ]
     },
     "execution_count": 112,
     "metadata": {},
     "output_type": "execute_result"
    }
   ],
   "source": [
    "pearsonr(data.horsepower,data.price)"
   ]
  },
  {
   "cell_type": "code",
   "execution_count": 113,
   "id": "fcefedcc",
   "metadata": {},
   "outputs": [
    {
     "data": {
      "text/plain": [
       "(0.7245583242779026, 1.1789696449955338e-34)"
      ]
     },
     "execution_count": 113,
     "metadata": {},
     "output_type": "execute_result"
    }
   ],
   "source": [
    "pearsonr(data.width,data.price)"
   ]
  },
  {
   "cell_type": "code",
   "execution_count": 114,
   "id": "63c07726",
   "metadata": {},
   "outputs": [
    {
     "data": {
      "text/plain": [
       "(0.819816683995632, 4.794551240414322e-51)"
      ]
     },
     "execution_count": 114,
     "metadata": {},
     "output_type": "execute_result"
    }
   ],
   "source": [
    "pearsonr(data.curb_weight,data.price)"
   ]
  },
  {
   "cell_type": "code",
   "execution_count": 115,
   "id": "92868f92",
   "metadata": {},
   "outputs": [],
   "source": [
    "x=data[[\"horsepower\",\"engine_size\",\"width\",\"curb_weight\"]]"
   ]
  },
  {
   "cell_type": "code",
   "execution_count": 116,
   "id": "c152ac2a",
   "metadata": {},
   "outputs": [],
   "source": [
    "y=data.price"
   ]
  },
  {
   "cell_type": "markdown",
   "id": "0b24889c",
   "metadata": {},
   "source": [
    "<h2 style=\"color:green\"> SPLIT THE DATA IN TRAINING SET AND TEST SET </h2>"
   ]
  },
  {
   "cell_type": "code",
   "execution_count": 117,
   "id": "54dff72f",
   "metadata": {},
   "outputs": [],
   "source": [
    "train_y=y.iloc[0:164]"
   ]
  },
  {
   "cell_type": "code",
   "execution_count": 118,
   "id": "0e7af1bf",
   "metadata": {},
   "outputs": [],
   "source": [
    "test_y=y.iloc[164:]"
   ]
  },
  {
   "cell_type": "code",
   "execution_count": 119,
   "id": "7069afe1",
   "metadata": {},
   "outputs": [
    {
     "data": {
      "text/plain": [
       "<matplotlib.collections.PathCollection at 0x19cca93d790>"
      ]
     },
     "execution_count": 119,
     "metadata": {},
     "output_type": "execute_result"
    },
    {
     "data": {
      "image/png": "[encoded data removed]",
      "text/plain": [
       "<Figure size 432x288 with 1 Axes>"
      ]
     },
     "metadata": {
      "needs_background": "light"
     },
     "output_type": "display_data"
    }
   ],
   "source": [
    "plt.scatter(data.horsepower,data.price)"
   ]
  },
  {
   "cell_type": "code",
   "execution_count": 120,
   "id": "8ea60f8c",
   "metadata": {},
   "outputs": [
    {
     "name": "stderr",
     "output_type": "stream",
     "text": [
      "D:\\Anaconda\\lib\\site-packages\\statsmodels\\tsa\\tsatools.py:142: FutureWarning: In a future version of pandas all arguments of concat except for the argument 'objs' will be keyword-only\n",
      "  x = pd.concat(x[::order], 1)\n"
     ]
    }
   ],
   "source": [
    "train_x=x.iloc[0:164]\n",
    "test_x=x.iloc[164:]\n",
    "x=sm.add_constant(x)\n"
   ]
  },
  {
   "cell_type": "code",
   "execution_count": 121,
   "id": "65ac635e",
   "metadata": {},
   "outputs": [
    {
     "data": {
      "text/plain": [
       "(205, 5)"
      ]
     },
     "execution_count": 121,
     "metadata": {},
     "output_type": "execute_result"
    }
   ],
   "source": [
    "x.shape"
   ]
  },
  {
   "cell_type": "markdown",
   "id": "74e07173",
   "metadata": {},
   "source": [
    "<h2 style=\"color:green\"> EVALUATE THE MODEL</h2>"
   ]
  },
  {
   "cell_type": "code",
   "execution_count": 122,
   "id": "4673bdd8",
   "metadata": {},
   "outputs": [],
   "source": [
    "model=sm.OLS(train_y,train_x).fit()"
   ]
  },
  {
   "cell_type": "code",
   "execution_count": 123,
   "id": "7df488c4",
   "metadata": {},
   "outputs": [
    {
     "data": {
      "text/html": [
       "<table class=\"simpletable\">\n",
       "<caption>OLS Regression Results</caption>\n",
       "<tr>\n",
       "  <th>Dep. Variable:</th>          <td>price</td>      <th>  R-squared (uncentered):</th>      <td>   0.938</td>\n",
       "</tr>\n",
       "<tr>\n",
       "  <th>Model:</th>                   <td>OLS</td>       <th>  Adj. R-squared (uncentered):</th> <td>   0.936</td>\n",
       "</tr>\n",
       "<tr>\n",
       "  <th>Method:</th>             <td>Least Squares</td>  <th>  F-statistic:       </th>          <td>   600.2</td>\n",
       "</tr>\n",
       "<tr>\n",
       "  <th>Date:</th>             <td>Mon, 04 Apr 2022</td> <th>  Prob (F-statistic):</th>          <td>3.46e-95</td>\n",
       "</tr>\n",
       "<tr>\n",
       "  <th>Time:</th>                 <td>11:16:46</td>     <th>  Log-Likelihood:    </th>          <td> -1590.0</td>\n",
       "</tr>\n",
       "<tr>\n",
       "  <th>No. Observations:</th>      <td>   164</td>      <th>  AIC:               </th>          <td>   3188.</td>\n",
       "</tr>\n",
       "<tr>\n",
       "  <th>Df Residuals:</th>          <td>   160</td>      <th>  BIC:               </th>          <td>   3200.</td>\n",
       "</tr>\n",
       "<tr>\n",
       "  <th>Df Model:</th>              <td>     4</td>      <th>                     </th>              <td> </td>   \n",
       "</tr>\n",
       "<tr>\n",
       "  <th>Covariance Type:</th>      <td>nonrobust</td>    <th>                     </th>              <td> </td>   \n",
       "</tr>\n",
       "</table>\n",
       "<table class=\"simpletable\">\n",
       "<tr>\n",
       "       <td></td>          <th>coef</th>     <th>std err</th>      <th>t</th>      <th>P>|t|</th>  <th>[0.025</th>    <th>0.975]</th>  \n",
       "</tr>\n",
       "<tr>\n",
       "  <th>horsepower</th>  <td>   24.1788</td> <td>   13.142</td> <td>    1.840</td> <td> 0.068</td> <td>   -1.776</td> <td>   50.134</td>\n",
       "</tr>\n",
       "<tr>\n",
       "  <th>engine_size</th> <td>  109.2414</td> <td>   15.589</td> <td>    7.008</td> <td> 0.000</td> <td>   78.456</td> <td>  140.027</td>\n",
       "</tr>\n",
       "<tr>\n",
       "  <th>width</th>       <td> -216.1136</td> <td>   28.255</td> <td>   -7.649</td> <td> 0.000</td> <td> -271.914</td> <td> -160.313</td>\n",
       "</tr>\n",
       "<tr>\n",
       "  <th>curb_weight</th> <td>    4.3960</td> <td>    1.187</td> <td>    3.702</td> <td> 0.000</td> <td>    2.051</td> <td>    6.741</td>\n",
       "</tr>\n",
       "</table>\n",
       "<table class=\"simpletable\">\n",
       "<tr>\n",
       "  <th>Omnibus:</th>       <td>18.718</td> <th>  Durbin-Watson:     </th> <td>   1.132</td>\n",
       "</tr>\n",
       "<tr>\n",
       "  <th>Prob(Omnibus):</th> <td> 0.000</td> <th>  Jarque-Bera (JB):  </th> <td>  79.154</td>\n",
       "</tr>\n",
       "<tr>\n",
       "  <th>Skew:</th>          <td>-0.005</td> <th>  Prob(JB):          </th> <td>6.48e-18</td>\n",
       "</tr>\n",
       "<tr>\n",
       "  <th>Kurtosis:</th>      <td> 6.403</td> <th>  Cond. No.          </th> <td>    242.</td>\n",
       "</tr>\n",
       "</table><br/><br/>Notes:<br/>[1] R² is computed without centering (uncentered) since the model does not contain a constant.<br/>[2] Standard Errors assume that the covariance matrix of the errors is correctly specified."
      ],
      "text/plain": [
       "<class 'statsmodels.iolib.summary.Summary'>\n",
       "\"\"\"\n",
       "                                 OLS Regression Results                                \n",
       "=======================================================================================\n",
       "Dep. Variable:                  price   R-squared (uncentered):                   0.938\n",
       "Model:                            OLS   Adj. R-squared (uncentered):              0.936\n",
       "Method:                 Least Squares   F-statistic:                              600.2\n",
       "Date:                Mon, 04 Apr 2022   Prob (F-statistic):                    3.46e-95\n",
       "Time:                        11:16:46   Log-Likelihood:                         -1590.0\n",
       "No. Observations:                 164   AIC:                                      3188.\n",
       "Df Residuals:                     160   BIC:                                      3200.\n",
       "Df Model:                           4                                                  \n",
       "Covariance Type:            nonrobust                                                  \n",
       "===============================================================================\n",
       "                  coef    std err          t      P>|t|      [0.025      0.975]\n",
       "-------------------------------------------------------------------------------\n",
       "horsepower     24.1788     13.142      1.840      0.068      -1.776      50.134\n",
       "engine_size   109.2414     15.589      7.008      0.000      78.456     140.027\n",
       "width        -216.1136     28.255     -7.649      0.000    -271.914    -160.313\n",
       "curb_weight     4.3960      1.187      3.702      0.000       2.051       6.741\n",
       "==============================================================================\n",
       "Omnibus:                       18.718   Durbin-Watson:                   1.132\n",
       "Prob(Omnibus):                  0.000   Jarque-Bera (JB):               79.154\n",
       "Skew:                          -0.005   Prob(JB):                     6.48e-18\n",
       "Kurtosis:                       6.403   Cond. No.                         242.\n",
       "==============================================================================\n",
       "\n",
       "Notes:\n",
       "[1] R² is computed without centering (uncentered) since the model does not contain a constant.\n",
       "[2] Standard Errors assume that the covariance matrix of the errors is correctly specified.\n",
       "\"\"\""
      ]
     },
     "execution_count": 123,
     "metadata": {},
     "output_type": "execute_result"
    }
   ],
   "source": [
    "model.summary()"
   ]
  },
  {
   "cell_type": "markdown",
   "id": "bfa435b8",
   "metadata": {},
   "source": [
    "<h2 style=\"color:green\"> PREDICT THE TEST</h2>"
   ]
  },
  {
   "cell_type": "code",
   "execution_count": 124,
   "id": "4d0d42c2",
   "metadata": {},
   "outputs": [
    {
     "data": {
      "text/plain": [
       "164     8255.687467\n",
       "165     9539.351733\n",
       "166     9693.211807\n",
       "167    15742.773376\n",
       "168    15725.189368\n",
       "169    15791.129400\n",
       "170    16353.817671\n",
       "171    16507.677745\n",
       "172    17655.034299\n",
       "173    11405.442363\n",
       "174    10312.133194\n",
       "175    11792.290550\n",
       "176    11792.290550\n",
       "177    11985.714643\n",
       "178    21024.671408\n",
       "179    21200.511492\n",
       "180    21844.494284\n",
       "181    20840.000195\n",
       "182     7637.629936\n",
       "183     9517.834033\n",
       "184     7650.817942\n",
       "185     9531.022039\n",
       "186     9807.970173\n",
       "187     8279.458301\n",
       "188    10280.551703\n",
       "189    10117.495692\n",
       "190    10015.650351\n",
       "191    14756.255173\n",
       "192     9119.859750\n",
       "193    10843.995977\n",
       "194    16437.739738\n",
       "195    16974.051997\n",
       "196    16538.847787\n",
       "197    17009.220014\n",
       "198    16981.333202\n",
       "199    17473.685440\n",
       "200    16246.186627\n",
       "201    17806.433394\n",
       "202    20489.247278\n",
       "203    17654.662721\n",
       "204    16729.746860\n",
       "dtype: float64"
      ]
     },
     "execution_count": 124,
     "metadata": {},
     "output_type": "execute_result"
    }
   ],
   "source": [
    "model.predict(test_x)"
   ]
  },
  {
   "cell_type": "code",
   "execution_count": 125,
   "id": "e1d96021",
   "metadata": {},
   "outputs": [
    {
     "ename": "AttributeError",
     "evalue": "'DataFrame' object has no attribute 'x'",
     "output_type": "error",
     "traceback": [
      "\u001b[1;31m---------------------------------------------------------------------------\u001b[0m",
      "\u001b[1;31mAttributeError\u001b[0m                            Traceback (most recent call last)",
      "\u001b[1;32m~\\AppData\\Local\\Temp/ipykernel_12852/1207749271.py\u001b[0m in \u001b[0;36m<module>\u001b[1;34m\u001b[0m\n\u001b[0;32m      1\u001b[0m \u001b[0mtest_price_predicted\u001b[0m\u001b[1;33m=\u001b[0m\u001b[0mmodel\u001b[0m\u001b[1;33m.\u001b[0m\u001b[0mpredict\u001b[0m\u001b[1;33m(\u001b[0m\u001b[0mtest_x\u001b[0m\u001b[1;33m)\u001b[0m\u001b[1;33m\u001b[0m\u001b[1;33m\u001b[0m\u001b[0m\n\u001b[1;32m----> 2\u001b[1;33m \u001b[0mplt\u001b[0m\u001b[1;33m.\u001b[0m\u001b[0mscatter\u001b[0m\u001b[1;33m(\u001b[0m\u001b[0mtrain_x\u001b[0m\u001b[1;33m.\u001b[0m\u001b[0mx\u001b[0m\u001b[1;33m,\u001b[0m\u001b[0mtrain_y\u001b[0m\u001b[1;33m.\u001b[0m\u001b[0mprice\u001b[0m\u001b[1;33m,\u001b[0m\u001b[0mcolor\u001b[0m\u001b[1;33m=\u001b[0m\u001b[1;34m\"red\"\u001b[0m\u001b[1;33m)\u001b[0m\u001b[1;33m\u001b[0m\u001b[1;33m\u001b[0m\u001b[0m\n\u001b[0m\u001b[0;32m      3\u001b[0m \u001b[0mplt\u001b[0m\u001b[1;33m.\u001b[0m\u001b[0mscatter\u001b[0m\u001b[1;33m(\u001b[0m\u001b[0mtest_x\u001b[0m\u001b[1;33m.\u001b[0m\u001b[0mx\u001b[0m\u001b[1;33m,\u001b[0m\u001b[0mtest_y\u001b[0m\u001b[1;33m.\u001b[0m\u001b[0mprice\u001b[0m\u001b[1;33m,\u001b[0m\u001b[0mcolor\u001b[0m\u001b[1;33m=\u001b[0m\u001b[1;34m\"yellow\"\u001b[0m\u001b[1;33m)\u001b[0m\u001b[1;33m\u001b[0m\u001b[1;33m\u001b[0m\u001b[0m\n\u001b[0;32m      4\u001b[0m \u001b[0mplt\u001b[0m\u001b[1;33m.\u001b[0m\u001b[0mplot\u001b[0m\u001b[1;33m(\u001b[0m\u001b[0mtest_x\u001b[0m\u001b[1;33m.\u001b[0m\u001b[0mx\u001b[0m\u001b[1;33m,\u001b[0m\u001b[0mtest_y_predicted\u001b[0m\u001b[1;33m,\u001b[0m\u001b[0mcolor\u001b[0m\u001b[1;33m=\u001b[0m\u001b[1;34m\"green\"\u001b[0m\u001b[1;33m)\u001b[0m\u001b[1;33m\u001b[0m\u001b[1;33m\u001b[0m\u001b[0m\n\u001b[0;32m      5\u001b[0m \u001b[0mplt\u001b[0m\u001b[1;33m.\u001b[0m\u001b[0mshow\u001b[0m\u001b[1;33m(\u001b[0m\u001b[1;33m)\u001b[0m\u001b[1;33m\u001b[0m\u001b[1;33m\u001b[0m\u001b[0m\n",
      "\u001b[1;32mD:\\Anaconda\\lib\\site-packages\\pandas\\core\\generic.py\u001b[0m in \u001b[0;36m__getattr__\u001b[1;34m(self, name)\u001b[0m\n\u001b[0;32m   5485\u001b[0m         ):\n\u001b[0;32m   5486\u001b[0m             \u001b[1;32mreturn\u001b[0m \u001b[0mself\u001b[0m\u001b[1;33m[\u001b[0m\u001b[0mname\u001b[0m\u001b[1;33m]\u001b[0m\u001b[1;33m\u001b[0m\u001b[1;33m\u001b[0m\u001b[0m\n\u001b[1;32m-> 5487\u001b[1;33m         \u001b[1;32mreturn\u001b[0m \u001b[0mobject\u001b[0m\u001b[1;33m.\u001b[0m\u001b[0m__getattribute__\u001b[0m\u001b[1;33m(\u001b[0m\u001b[0mself\u001b[0m\u001b[1;33m,\u001b[0m \u001b[0mname\u001b[0m\u001b[1;33m)\u001b[0m\u001b[1;33m\u001b[0m\u001b[1;33m\u001b[0m\u001b[0m\n\u001b[0m\u001b[0;32m   5488\u001b[0m \u001b[1;33m\u001b[0m\u001b[0m\n\u001b[0;32m   5489\u001b[0m     \u001b[1;32mdef\u001b[0m \u001b[0m__setattr__\u001b[0m\u001b[1;33m(\u001b[0m\u001b[0mself\u001b[0m\u001b[1;33m,\u001b[0m \u001b[0mname\u001b[0m\u001b[1;33m:\u001b[0m \u001b[0mstr\u001b[0m\u001b[1;33m,\u001b[0m \u001b[0mvalue\u001b[0m\u001b[1;33m)\u001b[0m \u001b[1;33m->\u001b[0m \u001b[1;32mNone\u001b[0m\u001b[1;33m:\u001b[0m\u001b[1;33m\u001b[0m\u001b[1;33m\u001b[0m\u001b[0m\n",
      "\u001b[1;31mAttributeError\u001b[0m: 'DataFrame' object has no attribute 'x'"
     ]
    }
   ],
   "source": [
    "test_price_predicted=model.predict(test_x)\n",
    "plt.scatter(train_x.x,train_y.price,color=\"red\")\n",
    "plt.scatter(test_x.x,test_y.price,color=\"yellow\")\n",
    "plt.plot(test_x.x,test_y_predicted,color=\"green\")\n",
    "plt.show()"
   ]
  },
  {
   "cell_type": "code",
   "execution_count": 135,
   "id": "7b62ba3e",
   "metadata": {},
   "outputs": [],
   "source": [
    "Q1=data.wheel_base.quantile(0.25)\n",
    "Q3=data.wheel_base.quantile(0.75)\n",
    "IQR=Q3-Q1\n",
    "UE=Q3+1.5*(IQR)\n",
    "LE=Q1-1.5*(IQR)"
   ]
  },
  {
   "cell_type": "code",
   "execution_count": 127,
   "id": "df15c424",
   "metadata": {},
   "outputs": [
    {
     "name": "stdout",
     "output_type": "stream",
     "text": [
      "114.25000000000001\n",
      "82.64999999999999\n"
     ]
    }
   ],
   "source": [
    "print(UE)\n",
    "print(LE)"
   ]
  },
  {
   "cell_type": "code",
   "execution_count": 128,
   "id": "bc4467f1",
   "metadata": {},
   "outputs": [
    {
     "data": {
      "text/html": [
       "<div>\n",
       "<style scoped>\n",
       "    .dataframe tbody tr th:only-of-type {\n",
       "        vertical-align: middle;\n",
       "    }\n",
       "\n",
       "    .dataframe tbody tr th {\n",
       "        vertical-align: top;\n",
       "    }\n",
       "\n",
       "    .dataframe thead th {\n",
       "        text-align: right;\n",
       "    }\n",
       "</style>\n",
       "<table border=\"1\" class=\"dataframe\">\n",
       "  <thead>\n",
       "    <tr style=\"text-align: right;\">\n",
       "      <th></th>\n",
       "      <th>symboling</th>\n",
       "      <th>normalized_losses</th>\n",
       "      <th>make</th>\n",
       "      <th>fuel_type</th>\n",
       "      <th>aspiration</th>\n",
       "      <th>num_of_doors</th>\n",
       "      <th>body_style</th>\n",
       "      <th>drive_wheels</th>\n",
       "      <th>engine_location</th>\n",
       "      <th>wheel_base</th>\n",
       "      <th>...</th>\n",
       "      <th>engine_size</th>\n",
       "      <th>fuel_system</th>\n",
       "      <th>bore</th>\n",
       "      <th>stroke</th>\n",
       "      <th>compression_ratio</th>\n",
       "      <th>horsepower</th>\n",
       "      <th>peak_rpm</th>\n",
       "      <th>city_mpg</th>\n",
       "      <th>highway_mpg</th>\n",
       "      <th>price</th>\n",
       "    </tr>\n",
       "  </thead>\n",
       "  <tbody>\n",
       "    <tr>\n",
       "      <th>0</th>\n",
       "      <td>3</td>\n",
       "      <td>115.0</td>\n",
       "      <td>alfa-romero</td>\n",
       "      <td>gas</td>\n",
       "      <td>std</td>\n",
       "      <td>two</td>\n",
       "      <td>convertible</td>\n",
       "      <td>rwd</td>\n",
       "      <td>front</td>\n",
       "      <td>88.6</td>\n",
       "      <td>...</td>\n",
       "      <td>130</td>\n",
       "      <td>mpfi</td>\n",
       "      <td>3.47</td>\n",
       "      <td>2.68</td>\n",
       "      <td>9.0</td>\n",
       "      <td>111.0</td>\n",
       "      <td>5000.0</td>\n",
       "      <td>21</td>\n",
       "      <td>27</td>\n",
       "      <td>13495.0</td>\n",
       "    </tr>\n",
       "    <tr>\n",
       "      <th>1</th>\n",
       "      <td>3</td>\n",
       "      <td>115.0</td>\n",
       "      <td>alfa-romero</td>\n",
       "      <td>gas</td>\n",
       "      <td>std</td>\n",
       "      <td>two</td>\n",
       "      <td>convertible</td>\n",
       "      <td>rwd</td>\n",
       "      <td>front</td>\n",
       "      <td>88.6</td>\n",
       "      <td>...</td>\n",
       "      <td>130</td>\n",
       "      <td>mpfi</td>\n",
       "      <td>3.47</td>\n",
       "      <td>2.68</td>\n",
       "      <td>9.0</td>\n",
       "      <td>111.0</td>\n",
       "      <td>5000.0</td>\n",
       "      <td>21</td>\n",
       "      <td>27</td>\n",
       "      <td>16500.0</td>\n",
       "    </tr>\n",
       "    <tr>\n",
       "      <th>2</th>\n",
       "      <td>1</td>\n",
       "      <td>115.0</td>\n",
       "      <td>alfa-romero</td>\n",
       "      <td>gas</td>\n",
       "      <td>std</td>\n",
       "      <td>two</td>\n",
       "      <td>hatchback</td>\n",
       "      <td>rwd</td>\n",
       "      <td>front</td>\n",
       "      <td>94.5</td>\n",
       "      <td>...</td>\n",
       "      <td>152</td>\n",
       "      <td>mpfi</td>\n",
       "      <td>2.68</td>\n",
       "      <td>3.47</td>\n",
       "      <td>9.0</td>\n",
       "      <td>154.0</td>\n",
       "      <td>5000.0</td>\n",
       "      <td>19</td>\n",
       "      <td>26</td>\n",
       "      <td>16500.0</td>\n",
       "    </tr>\n",
       "    <tr>\n",
       "      <th>3</th>\n",
       "      <td>2</td>\n",
       "      <td>164.0</td>\n",
       "      <td>audi</td>\n",
       "      <td>gas</td>\n",
       "      <td>std</td>\n",
       "      <td>four</td>\n",
       "      <td>sedan</td>\n",
       "      <td>fwd</td>\n",
       "      <td>front</td>\n",
       "      <td>99.8</td>\n",
       "      <td>...</td>\n",
       "      <td>109</td>\n",
       "      <td>mpfi</td>\n",
       "      <td>3.19</td>\n",
       "      <td>3.40</td>\n",
       "      <td>10.0</td>\n",
       "      <td>102.0</td>\n",
       "      <td>5500.0</td>\n",
       "      <td>24</td>\n",
       "      <td>30</td>\n",
       "      <td>13950.0</td>\n",
       "    </tr>\n",
       "    <tr>\n",
       "      <th>4</th>\n",
       "      <td>2</td>\n",
       "      <td>164.0</td>\n",
       "      <td>audi</td>\n",
       "      <td>gas</td>\n",
       "      <td>std</td>\n",
       "      <td>four</td>\n",
       "      <td>sedan</td>\n",
       "      <td>4wd</td>\n",
       "      <td>front</td>\n",
       "      <td>99.4</td>\n",
       "      <td>...</td>\n",
       "      <td>136</td>\n",
       "      <td>mpfi</td>\n",
       "      <td>3.19</td>\n",
       "      <td>3.40</td>\n",
       "      <td>8.0</td>\n",
       "      <td>115.0</td>\n",
       "      <td>5500.0</td>\n",
       "      <td>18</td>\n",
       "      <td>22</td>\n",
       "      <td>17450.0</td>\n",
       "    </tr>\n",
       "    <tr>\n",
       "      <th>...</th>\n",
       "      <td>...</td>\n",
       "      <td>...</td>\n",
       "      <td>...</td>\n",
       "      <td>...</td>\n",
       "      <td>...</td>\n",
       "      <td>...</td>\n",
       "      <td>...</td>\n",
       "      <td>...</td>\n",
       "      <td>...</td>\n",
       "      <td>...</td>\n",
       "      <td>...</td>\n",
       "      <td>...</td>\n",
       "      <td>...</td>\n",
       "      <td>...</td>\n",
       "      <td>...</td>\n",
       "      <td>...</td>\n",
       "      <td>...</td>\n",
       "      <td>...</td>\n",
       "      <td>...</td>\n",
       "      <td>...</td>\n",
       "      <td>...</td>\n",
       "    </tr>\n",
       "    <tr>\n",
       "      <th>200</th>\n",
       "      <td>&lt;0</td>\n",
       "      <td>95.0</td>\n",
       "      <td>volvo</td>\n",
       "      <td>gas</td>\n",
       "      <td>std</td>\n",
       "      <td>four</td>\n",
       "      <td>sedan</td>\n",
       "      <td>rwd</td>\n",
       "      <td>front</td>\n",
       "      <td>109.1</td>\n",
       "      <td>...</td>\n",
       "      <td>141</td>\n",
       "      <td>mpfi</td>\n",
       "      <td>3.78</td>\n",
       "      <td>3.15</td>\n",
       "      <td>9.5</td>\n",
       "      <td>114.0</td>\n",
       "      <td>5400.0</td>\n",
       "      <td>23</td>\n",
       "      <td>28</td>\n",
       "      <td>16845.0</td>\n",
       "    </tr>\n",
       "    <tr>\n",
       "      <th>201</th>\n",
       "      <td>&lt;0</td>\n",
       "      <td>95.0</td>\n",
       "      <td>volvo</td>\n",
       "      <td>gas</td>\n",
       "      <td>turbo</td>\n",
       "      <td>four</td>\n",
       "      <td>sedan</td>\n",
       "      <td>rwd</td>\n",
       "      <td>front</td>\n",
       "      <td>109.1</td>\n",
       "      <td>...</td>\n",
       "      <td>141</td>\n",
       "      <td>mpfi</td>\n",
       "      <td>3.78</td>\n",
       "      <td>3.15</td>\n",
       "      <td>8.7</td>\n",
       "      <td>160.0</td>\n",
       "      <td>5300.0</td>\n",
       "      <td>19</td>\n",
       "      <td>25</td>\n",
       "      <td>19045.0</td>\n",
       "    </tr>\n",
       "    <tr>\n",
       "      <th>202</th>\n",
       "      <td>&lt;0</td>\n",
       "      <td>95.0</td>\n",
       "      <td>volvo</td>\n",
       "      <td>gas</td>\n",
       "      <td>std</td>\n",
       "      <td>four</td>\n",
       "      <td>sedan</td>\n",
       "      <td>rwd</td>\n",
       "      <td>front</td>\n",
       "      <td>109.1</td>\n",
       "      <td>...</td>\n",
       "      <td>173</td>\n",
       "      <td>mpfi</td>\n",
       "      <td>3.58</td>\n",
       "      <td>2.87</td>\n",
       "      <td>8.8</td>\n",
       "      <td>134.0</td>\n",
       "      <td>5500.0</td>\n",
       "      <td>18</td>\n",
       "      <td>23</td>\n",
       "      <td>21485.0</td>\n",
       "    </tr>\n",
       "    <tr>\n",
       "      <th>203</th>\n",
       "      <td>&lt;0</td>\n",
       "      <td>95.0</td>\n",
       "      <td>volvo</td>\n",
       "      <td>diesel</td>\n",
       "      <td>turbo</td>\n",
       "      <td>four</td>\n",
       "      <td>sedan</td>\n",
       "      <td>rwd</td>\n",
       "      <td>front</td>\n",
       "      <td>109.1</td>\n",
       "      <td>...</td>\n",
       "      <td>145</td>\n",
       "      <td>idi</td>\n",
       "      <td>3.01</td>\n",
       "      <td>3.40</td>\n",
       "      <td>23.0</td>\n",
       "      <td>106.0</td>\n",
       "      <td>4800.0</td>\n",
       "      <td>26</td>\n",
       "      <td>27</td>\n",
       "      <td>22470.0</td>\n",
       "    </tr>\n",
       "    <tr>\n",
       "      <th>204</th>\n",
       "      <td>&lt;0</td>\n",
       "      <td>95.0</td>\n",
       "      <td>volvo</td>\n",
       "      <td>gas</td>\n",
       "      <td>turbo</td>\n",
       "      <td>four</td>\n",
       "      <td>sedan</td>\n",
       "      <td>rwd</td>\n",
       "      <td>front</td>\n",
       "      <td>109.1</td>\n",
       "      <td>...</td>\n",
       "      <td>141</td>\n",
       "      <td>mpfi</td>\n",
       "      <td>3.78</td>\n",
       "      <td>3.15</td>\n",
       "      <td>9.5</td>\n",
       "      <td>114.0</td>\n",
       "      <td>5400.0</td>\n",
       "      <td>19</td>\n",
       "      <td>25</td>\n",
       "      <td>22625.0</td>\n",
       "    </tr>\n",
       "  </tbody>\n",
       "</table>\n",
       "<p>202 rows × 26 columns</p>\n",
       "</div>"
      ],
      "text/plain": [
       "    symboling  normalized_losses         make fuel_type aspiration  \\\n",
       "0           3              115.0  alfa-romero       gas        std   \n",
       "1           3              115.0  alfa-romero       gas        std   \n",
       "2           1              115.0  alfa-romero       gas        std   \n",
       "3           2              164.0         audi       gas        std   \n",
       "4           2              164.0         audi       gas        std   \n",
       "..        ...                ...          ...       ...        ...   \n",
       "200        <0               95.0        volvo       gas        std   \n",
       "201        <0               95.0        volvo       gas      turbo   \n",
       "202        <0               95.0        volvo       gas        std   \n",
       "203        <0               95.0        volvo    diesel      turbo   \n",
       "204        <0               95.0        volvo       gas      turbo   \n",
       "\n",
       "    num_of_doors   body_style drive_wheels engine_location  wheel_base  ...  \\\n",
       "0            two  convertible          rwd           front        88.6  ...   \n",
       "1            two  convertible          rwd           front        88.6  ...   \n",
       "2            two    hatchback          rwd           front        94.5  ...   \n",
       "3           four        sedan          fwd           front        99.8  ...   \n",
       "4           four        sedan          4wd           front        99.4  ...   \n",
       "..           ...          ...          ...             ...         ...  ...   \n",
       "200         four        sedan          rwd           front       109.1  ...   \n",
       "201         four        sedan          rwd           front       109.1  ...   \n",
       "202         four        sedan          rwd           front       109.1  ...   \n",
       "203         four        sedan          rwd           front       109.1  ...   \n",
       "204         four        sedan          rwd           front       109.1  ...   \n",
       "\n",
       "     engine_size  fuel_system  bore  stroke compression_ratio horsepower  \\\n",
       "0            130         mpfi  3.47    2.68               9.0      111.0   \n",
       "1            130         mpfi  3.47    2.68               9.0      111.0   \n",
       "2            152         mpfi  2.68    3.47               9.0      154.0   \n",
       "3            109         mpfi  3.19    3.40              10.0      102.0   \n",
       "4            136         mpfi  3.19    3.40               8.0      115.0   \n",
       "..           ...          ...   ...     ...               ...        ...   \n",
       "200          141         mpfi  3.78    3.15               9.5      114.0   \n",
       "201          141         mpfi  3.78    3.15               8.7      160.0   \n",
       "202          173         mpfi  3.58    2.87               8.8      134.0   \n",
       "203          145          idi  3.01    3.40              23.0      106.0   \n",
       "204          141         mpfi  3.78    3.15               9.5      114.0   \n",
       "\n",
       "     peak_rpm city_mpg  highway_mpg    price  \n",
       "0      5000.0       21           27  13495.0  \n",
       "1      5000.0       21           27  16500.0  \n",
       "2      5000.0       19           26  16500.0  \n",
       "3      5500.0       24           30  13950.0  \n",
       "4      5500.0       18           22  17450.0  \n",
       "..        ...      ...          ...      ...  \n",
       "200    5400.0       23           28  16845.0  \n",
       "201    5300.0       19           25  19045.0  \n",
       "202    5500.0       18           23  21485.0  \n",
       "203    4800.0       26           27  22470.0  \n",
       "204    5400.0       19           25  22625.0  \n",
       "\n",
       "[202 rows x 26 columns]"
      ]
     },
     "execution_count": 128,
     "metadata": {},
     "output_type": "execute_result"
    }
   ],
   "source": [
    "data[(data.wheel_base<UE)&(data.wheel_base>LE)]"
   ]
  },
  {
   "cell_type": "code",
   "execution_count": 136,
   "id": "11a39583",
   "metadata": {},
   "outputs": [
    {
     "name": "stderr",
     "output_type": "stream",
     "text": [
      "C:\\Users\\bhava\\AppData\\Local\\Temp/ipykernel_12852/736750420.py:1: SettingWithCopyWarning: \n",
      "A value is trying to be set on a copy of a slice from a DataFrame\n",
      "\n",
      "See the caveats in the documentation: https://pandas.pydata.org/pandas-docs/stable/user_guide/indexing.html#returning-a-view-versus-a-copy\n",
      "  data.wheel_base[data.wheel_base>UE]=UE\n"
     ]
    }
   ],
   "source": [
    "data.wheel_base[data.wheel_base>UE]=UE"
   ]
  },
  {
   "cell_type": "code",
   "execution_count": 137,
   "id": "757a4907",
   "metadata": {},
   "outputs": [
    {
     "name": "stderr",
     "output_type": "stream",
     "text": [
      "C:\\Users\\bhava\\AppData\\Local\\Temp/ipykernel_12852/3201061370.py:1: SettingWithCopyWarning: \n",
      "A value is trying to be set on a copy of a slice from a DataFrame\n",
      "\n",
      "See the caveats in the documentation: https://pandas.pydata.org/pandas-docs/stable/user_guide/indexing.html#returning-a-view-versus-a-copy\n",
      "  data.wheel_base[data.wheel_base<LE]=LE\n"
     ]
    }
   ],
   "source": [
    "data.wheel_base[data.wheel_base<LE]=LE"
   ]
  },
  {
   "cell_type": "code",
   "execution_count": 138,
   "id": "7b1e15a1",
   "metadata": {},
   "outputs": [
    {
     "data": {
      "text/plain": [
       "{'whiskers': [<matplotlib.lines.Line2D at 0x19ccb092970>,\n",
       "  <matplotlib.lines.Line2D at 0x19ccb092d00>],\n",
       " 'caps': [<matplotlib.lines.Line2D at 0x19ccb0a00d0>,\n",
       "  <matplotlib.lines.Line2D at 0x19ccb0a0460>],\n",
       " 'boxes': [<matplotlib.lines.Line2D at 0x19ccb0925b0>],\n",
       " 'medians': [<matplotlib.lines.Line2D at 0x19ccb0a07f0>],\n",
       " 'fliers': [<matplotlib.lines.Line2D at 0x19ccb0a0b80>],\n",
       " 'means': []}"
      ]
     },
     "execution_count": 138,
     "metadata": {},
     "output_type": "execute_result"
    },
    {
     "data": {
      "image/png": "[encoded data removed]",
      "text/plain": [
       "<Figure size 432x288 with 1 Axes>"
      ]
     },
     "metadata": {
      "needs_background": "light"
     },
     "output_type": "display_data"
    }
   ],
   "source": [
    "plt.boxplot(data.wheel_base)"
   ]
  },
  {
   "cell_type": "code",
   "execution_count": null,
   "id": "9b3969bb",
   "metadata": {},
   "outputs": [],
   "source": []
  },
  {
   "cell_type": "code",
   "execution_count": null,
   "id": "f67ebb8c",
   "metadata": {},
   "outputs": [],
   "source": []
  }
 ],
 "metadata": {
  "kernelspec": {
   "display_name": "Python 3 (ipykernel)",
   "language": "python",
   "name": "python3"
  },
  "language_info": {
   "codemirror_mode": {
    "name": "ipython",
    "version": 3
   },
   "file_extension": ".py",
   "mimetype": "text/x-python",
   "name": "python",
   "nbconvert_exporter": "python",
   "pygments_lexer": "ipython3",
   "version": "3.9.7"
  }
 },
 "nbformat": 4,
 "nbformat_minor": 5
}
